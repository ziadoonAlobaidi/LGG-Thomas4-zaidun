{
 "cells": [
  {
   "attachments": {},
   "cell_type": "markdown",
   "metadata": {},
   "source": [
    "# FastAPI\n",
    "![FastAPI icon](assets/fastapi-logo.png)"
   ]
  },
  {
   "attachments": {},
   "cell_type": "markdown",
   "metadata": {},
   "source": [
    "## Task: Create you own API \n",
    "It should contain at least the following requirements:\n",
    "\n",
    "* A route that handles GET request\n",
    "* A route that handles POST request\n",
    "* A route that takes a number in the request and returns this number multiplied by 2\n",
    "* A POST route that takes this dictionary (in `json` format) and returns the computation of `salary + bonus - taxes`.\n",
    "    * Make sure to return an error if the user enters a string instead  of a number.\n",
    "    * Make sure the user sends the 3 fields.\n",
    "\n",
    "**Input:**\n",
    "```json\n",
    "{\n",
    "    \"salary\": 2500,\n",
    "    \"bonus\": 200,\n",
    "    \"taxes\": 400\n",
    "}\n",
    "```\n",
    "\n",
    "**Outputs:**\n",
    "\n",
    "If the user enters a valid input:\n",
    "```json\n",
    "{\n",
    "    \"result\": 2300 // salary + bonus - taxes\n",
    "}\n",
    "```\n",
    "If the user enters a string:\n",
    "```json\n",
    "{\n",
    "    \"error\": \"expected numbers, got strings.\"\n",
    "}\n",
    "```\n",
    "If the user forgets a field:\n",
    "```json\n",
    "{\n",
    "    \"error\": f\"3 fields expected (salary, bonus, taxes). You forgot: {FIELD_THE_USER_FORGOT_HERE}.\"\n",
    "}"
   ]
  },
  {
   "attachments": {},
   "cell_type": "markdown",
   "metadata": {},
   "source": [
    "## Test you API\n",
    "\n",
    "To test you API you can use you browser or the `curl` command in the terminal (if you are using an older version of Windows < 10 you can [install](https://www.wikihow.com/Install-Curl-on-Windows) the curl command). \n",
    "\n",
    "But if you want to test POST requests with some data in it and start to work on a complex API then you will need a more advanced tool!\n",
    "\n",
    "We recommend you to check [Postman](https://www.postman.com/) which is a free software compatible with Windows, Linux and Mac. It allows you to create and register complex requests, to add headers, to get formatted data and much more."
   ]
  },
  {
   "attachments": {},
   "cell_type": "markdown",
   "metadata": {},
   "source": [
    "Are you done? If yes, you know how a basic API works, and how to put it in production. Congratulations!"
   ]
  },
  {
   "cell_type": "markdown",
   "metadata": {},
   "source": [
    "## Time to explore more:\n",
    "* [Official FastAPI tutorial](https://fastapi.tiangolo.com/tutorial/)\n",
    "* [Introduction to FastAPI tutorial by DataCamp](https://www.datacamp.com/tutorial/introduction-fastapi-tutorial)\n",
    "* [Deploying ML Models as an API using FastAPI](https://www.geeksforgeeks.org/deploying-ml-models-as-api-using-fastapi/)\n",
    "* [Python FastAPI tutorial (example for databases)](https://codingnomads.co/blog/python-fastapi-tutorial)"
   ]
  }
 ],
 "metadata": {
  "interpreter": {
   "hash": "31f2aee4e71d21fbe5cf8b01ff0e069b9275f58929596ceb00d14d90e3e16cd6"
  },
  "kernelspec": {
   "display_name": "Python 3.6.9 64-bit",
   "name": "python3"
  },
  "language_info": {
   "name": "python",
   "version": ""
  }
 },
 "nbformat": 4,
 "nbformat_minor": 2
}
