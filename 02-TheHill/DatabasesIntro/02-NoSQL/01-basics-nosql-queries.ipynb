{
 "cells": [
  {
   "cell_type": "markdown",
   "metadata": {},
   "source": [
    "# NoSQL: Basic queries on non-relational databases\n",
    "\n",
    "## NoSQL: Review\n",
    "\n",
    "A NoSQL database is designed to handle data that are not structured in tabular relations. The data can be stored in key-value pairs (like Python dictionaries), documents (JSON), or graphs.\n",
    "\n",
    "<img src=\"../assets/nosql_vs_sql.jpeg\"  width = 500 px></img>\n",
    "\n",
    "Unlike relational databases (SQL), NoSQL does not (necessarily) employ tables and rows. Also they are much more flexible since the structure of the entries is not predefined. Therefore you can add data without defining anything (even not the table itself).\n",
    "\n",
    "[This article](https://www.integrate.io/blog/the-sql-vs-nosql-difference/) gives a recap of the biggest differences between SQL and NoSQL database systems:\n",
    "|SQL|NoSQL|\n",
    "|---|---|\n",
    "|SQL databases are relational| NoSQL databases are non-relational. In NoSQL you cannot make relationships between tables (`JOIN`)|\n",
    "|SQL databases are table-based |NoSQL databases are document, key-value, graph, or wide-column stores.|\n",
    "|SQL databases use structured query language and have a predefined schema.| NoSQL databases have dynamic schemas for unstructured data.|\n",
    "|SQL databases are vertically scalable (by adding processing power)|NoSQL databases are horizontally scalable (by adding servers/machines).|\n",
    "|SQL databases are better for multi-row transactions|NoSQL is better for unstructured data like documents or JSON.|\n",
    "\n",
    "In the image, below you will find examples of popular SQL and NoSQL databases. \n",
    "\n",
    "<img src=\"../assets/popular_examples_nosql_sql.jpeg\" width =500px></img>\n",
    "\n",
    "In the next section, we'll cover an example using MongoDB. You will see that we can translate many of the basic SQL queries you know.\n",
    "\n",
    "## MongoDB\n",
    "\n",
    "<img src=\"https://upload.wikimedia.org/wikipedia/fr/thumb/4/45/MongoDB-Logo.svg/527px-MongoDB-Logo.svg.png\" />\n",
    "\n",
    "A lot of companies provide NoSQL architectures. One of the most popular is [MongoDB](https://www.mongodb.com/). A MongoDB database contains collections (tables) of documents (entries). The documents are stored in the JSON format which is very convenient to handle with Python!\n",
    "\n",
    "The syntax of the queries is based on JavaScript. They basically look like python dictionaries.\n",
    "\n",
    "Before diving in some exercises, you can have a look to [this quick intro](https://www.mongodb.com/docs/manual/tutorial/query-documents/) about MongoDB queries.\n",
    "\n",
    "### Creating the database\n",
    "\n",
    "We have created and filled a MongoDB database for you. You probably know already the database. It is the list of country leaders that you have used already in the Wikipedia project.\n",
    "\n",
    "You can set it up by deploying the Docker image we have pre-built:"
   ]
  },
  {
   "cell_type": "code",
   "execution_count": 4,
   "metadata": {},
   "outputs": [
    {
     "name": "stdout",
     "output_type": "stream",
     "text": [
      "#1 [internal] load build definition from Dockerfile"
     ]
    },
    {
     "name": "stderr",
     "output_type": "stream",
     "text": [
      "mongodb Pulling \n",
      "9d19ee268e0d Pulling fs layer \n",
      "84c1327991fa Pulling fs layer \n",
      "1feec59ecd14 Pulling fs layer \n",
      "3af7480eaf55 Pulling fs layer \n",
      "d7524ee16ced Pulling fs layer \n",
      "f4742175eefc Pulling fs layer \n",
      "9d688a8d9c18 Pulling fs layer \n",
      "865b2fb03178 Pulling fs layer \n",
      "f01ec0b7fbdb Pulling fs layer \n",
      "d7524ee16ced Waiting \n",
      "3af7480eaf55 Waiting \n",
      "865b2fb03178 Waiting \n",
      "f4742175eefc Waiting \n",
      "9d688a8d9c18 Waiting \n",
      "f01ec0b7fbdb Waiting \n",
      "84c1327991fa Downloading [===================>                               ]     720B/1.83kB\n",
      "84c1327991fa Downloading [==================================================>]   1.83kB/1.83kB\n",
      "84c1327991fa Verifying Checksum \n",
      "84c1327991fa Download complete \n",
      "1feec59ecd14 Downloading [>                                                  ]  51.21kB/5.051MB\n",
      "9d19ee268e0d Downloading [>                                                  ]  310.6kB/30.43MB\n",
      "1feec59ecd14 Downloading [=======>                                           ]  784.7kB/5.051MB\n",
      "9d19ee268e0d Downloading [==>                                                ]  1.551MB/30.43MB\n",
      "1feec59ecd14 Downloading [============================>                      ]  2.849MB/5.051MB\n",
      "9d19ee268e0d Downloading [======>                                            ]  4.053MB/30.43MB\n",
      "1feec59ecd14 Downloading [==================================================>]  5.051MB/5.051MB\n",
      "1feec59ecd14 Download complete \n",
      "9d19ee268e0d Downloading [===========>                                       ]  7.158MB/30.43MB\n",
      "9d19ee268e0d Downloading [================>                                  ]  9.972MB/30.43MB\n",
      "3af7480eaf55 Downloading [>                                                  ]  13.04kB/1.253MB\n",
      "9d19ee268e0d Downloading [=====================>                             ]  13.09MB/30.43MB\n",
      "3af7480eaf55 Downloading [=====================>                             ]    540kB/1.253MB\n",
      "9d19ee268e0d Downloading [==========================>                        ]  16.21MB/30.43MB\n",
      "3af7480eaf55 Verifying Checksum \n",
      "3af7480eaf55 Download complete \n",
      "9d19ee268e0d Downloading [===============================>                   ]  19.34MB/30.43MB\n",
      "d7524ee16ced Downloading [==================================================>]     149B/149B\n",
      "d7524ee16ced Verifying Checksum \n",
      "d7524ee16ced Download complete \n",
      "9d19ee268e0d Downloading [====================================>              ]  22.46MB/30.43MB\n",
      "9d19ee268e0d Downloading [==========================================>        ]  25.59MB/30.43MB\n",
      "9d19ee268e0d Downloading [==============================================>    ]   28.4MB/30.43MB\n",
      "9d19ee268e0d Download complete \n",
      "f4742175eefc Downloading [=========================>                         ]     719B/1.421kB\n",
      "f4742175eefc Downloading [==================================================>]  1.421kB/1.421kB\n",
      "f4742175eefc Verifying Checksum \n",
      "f4742175eefc Download complete \n",
      "9d688a8d9c18 Downloading [==================================================>]     264B/264B\n",
      "9d688a8d9c18 Downloading [==================================================>]     264B/264B\n",
      "9d688a8d9c18 Download complete \n",
      "9d19ee268e0d Extracting [>                                                  ]  327.7kB/30.43MB\n",
      "9d19ee268e0d Extracting [==>                                                ]  1.638MB/30.43MB\n",
      "9d19ee268e0d Extracting [=====>                                             ]  3.604MB/30.43MB\n",
      "9d19ee268e0d Extracting [==========>                                        ]  6.554MB/30.43MB\n",
      "f01ec0b7fbdb Downloading [=======>                                           ]     720B/5kB\n",
      "9d19ee268e0d Extracting [=============>                                     ]  8.192MB/30.43MB\n",
      "f01ec0b7fbdb Downloading [==================================================>]      5kB/5kB\n",
      "f01ec0b7fbdb Verifying Checksum \n",
      "f01ec0b7fbdb Download complete \n",
      "865b2fb03178 Downloading [>                                                  ]  535.8kB/200.8MB\n",
      "9d19ee268e0d Extracting [===============>                                   ]  9.503MB/30.43MB\n",
      "865b2fb03178 Downloading [>                                                  ]  3.767MB/200.8MB\n",
      "9d19ee268e0d Extracting [==================>                                ]  11.14MB/30.43MB\n",
      "865b2fb03178 Downloading [=>                                                 ]  7.523MB/200.8MB\n",
      "9d19ee268e0d Extracting [======================>                            ]  13.43MB/30.43MB\n",
      "865b2fb03178 Downloading [==>                                                ]  11.28MB/200.8MB\n",
      "9d19ee268e0d Extracting [==========================>                        ]  16.06MB/30.43MB\n",
      "865b2fb03178 Downloading [===>                                               ]  15.01MB/200.8MB\n",
      "9d19ee268e0d Extracting [==============================>                    ]  18.68MB/30.43MB\n",
      "865b2fb03178 Downloading [====>                                              ]  18.78MB/200.8MB\n",
      "9d19ee268e0d Extracting [===================================>               ]  21.63MB/30.43MB\n",
      "865b2fb03178 Downloading [=====>                                             ]  22.53MB/200.8MB\n",
      "9d19ee268e0d Extracting [========================================>          ]  24.58MB/30.43MB\n",
      "865b2fb03178 Downloading [======>                                            ]  26.28MB/200.8MB\n",
      "865b2fb03178 Downloading [=======>                                           ]  30.03MB/200.8MB\n",
      "9d19ee268e0d Extracting [===========================================>       ]  26.54MB/30.43MB\n",
      "865b2fb03178 Downloading [========>                                          ]  33.76MB/200.8MB\n",
      "9d19ee268e0d Extracting [===============================================>   ]  28.84MB/30.43MB\n",
      "865b2fb03178 Downloading [=========>                                         ]  37.48MB/200.8MB\n",
      "865b2fb03178 Downloading [==========>                                        ]  41.22MB/200.8MB\n",
      "9d19ee268e0d Extracting [=================================================> ]  30.15MB/30.43MB\n",
      "865b2fb03178 Downloading [===========>                                       ]  44.44MB/200.8MB\n",
      "9d19ee268e0d Extracting [==================================================>]  30.43MB/30.43MB\n",
      "865b2fb03178 Downloading [===========>                                       ]  48.17MB/200.8MB\n",
      "9d19ee268e0d Pull complete \n",
      "84c1327991fa Extracting [==================================================>]   1.83kB/1.83kB\n",
      "84c1327991fa Extracting [==================================================>]   1.83kB/1.83kB\n",
      "865b2fb03178 Downloading [============>                                      ]  51.92MB/200.8MB\n",
      "865b2fb03178 Downloading [=============>                                     ]  55.67MB/200.8MB\n",
      "84c1327991fa Pull complete \n",
      "1feec59ecd14 Extracting [>                                                  ]  65.54kB/5.051MB\n",
      "865b2fb03178 Downloading [==============>                                    ]   58.9MB/200.8MB\n",
      "1feec59ecd14 Extracting [==>                                                ]  262.1kB/5.051MB\n",
      "865b2fb03178 Downloading [===============>                                   ]  62.65MB/200.8MB\n",
      "1feec59ecd14 Extracting [=========================>                         ]  2.621MB/5.051MB\n",
      "865b2fb03178 Downloading [================>                                  ]  66.37MB/200.8MB\n",
      "1feec59ecd14 Extracting [==============================================>    ]  4.653MB/5.051MB\n",
      "1feec59ecd14 Extracting [==================================================>]  5.051MB/5.051MB\n",
      "865b2fb03178 Downloading [=================>                                 ]  70.15MB/200.8MB\n",
      "1feec59ecd14 Pull complete \n",
      "3af7480eaf55 Extracting [=>                                                 ]  32.77kB/1.253MB\n",
      "865b2fb03178 Downloading [==================>                                ]   73.9MB/200.8MB\n",
      "3af7480eaf55 Extracting [====================================>              ]  917.5kB/1.253MB\n",
      "3af7480eaf55 Extracting [==================================================>]  1.253MB/1.253MB\n",
      "865b2fb03178 Downloading [===================>                               ]  77.64MB/200.8MB\n",
      "3af7480eaf55 Pull complete \n",
      "d7524ee16ced Extracting [==================================================>]     149B/149B\n",
      "d7524ee16ced Extracting [==================================================>]     149B/149B\n",
      "865b2fb03178 Downloading [====================>                              ]   81.4MB/200.8MB\n",
      "d7524ee16ced Pull complete \n",
      "f4742175eefc Extracting [==================================================>]  1.421kB/1.421kB\n",
      "f4742175eefc Extracting [==================================================>]  1.421kB/1.421kB\n",
      "865b2fb03178 Downloading [====================>                              ]  83.55MB/200.8MB\n",
      "f4742175eefc Pull complete \n",
      "9d688a8d9c18 Extracting [==================================================>]     264B/264B\n",
      "9d688a8d9c18 Extracting [==================================================>]     264B/264B\n",
      "865b2fb03178 Downloading [=====================>                             ]  86.23MB/200.8MB\n",
      "9d688a8d9c18 Pull complete \n",
      "865b2fb03178 Downloading [======================>                            ]     90MB/200.8MB\n",
      "865b2fb03178 Downloading [=======================>                           ]  93.76MB/200.8MB\n",
      "865b2fb03178 Downloading [========================>                          ]  97.53MB/200.8MB\n",
      "865b2fb03178 Downloading [=========================>                         ]  100.7MB/200.8MB\n",
      "865b2fb03178 Downloading [=========================>                         ]    104MB/200.8MB\n",
      "865b2fb03178 Downloading [==========================>                        ]  107.7MB/200.8MB\n",
      "865b2fb03178 Downloading [===========================>                       ]  111.5MB/200.8MB\n",
      "865b2fb03178 Downloading [============================>                      ]  113.1MB/200.8MB\n",
      "865b2fb03178 Downloading [============================>                      ]  114.7MB/200.8MB\n",
      "865b2fb03178 Downloading [=============================>                     ]  116.8MB/200.8MB\n",
      "865b2fb03178 Downloading [==============================>                    ]  120.6MB/200.8MB\n",
      "865b2fb03178 Downloading [===============================>                   ]  124.9MB/200.8MB\n",
      "865b2fb03178 Downloading [===============================>                   ]  128.1MB/200.8MB\n",
      "865b2fb03178 Downloading [================================>                  ]  130.2MB/200.8MB\n",
      "865b2fb03178 Downloading [=================================>                 ]    134MB/200.8MB\n",
      "865b2fb03178 Downloading [==================================>                ]  139.3MB/200.8MB\n",
      "865b2fb03178 Downloading [====================================>              ]  145.2MB/200.8MB\n",
      "865b2fb03178 Downloading [=====================================>             ]    149MB/200.8MB\n",
      "865b2fb03178 Downloading [======================================>            ]  152.7MB/200.8MB\n",
      "865b2fb03178 Downloading [======================================>            ]  156.5MB/200.8MB\n",
      "865b2fb03178 Downloading [=======================================>           ]  160.2MB/200.8MB\n",
      "865b2fb03178 Downloading [========================================>          ]    164MB/200.8MB\n",
      "865b2fb03178 Downloading [=========================================>         ]  167.7MB/200.8MB\n",
      "865b2fb03178 Downloading [==========================================>        ]  171.5MB/200.8MB\n",
      "865b2fb03178 Downloading [===========================================>       ]  175.8MB/200.8MB\n",
      "865b2fb03178 Downloading [============================================>      ]  179.5MB/200.8MB\n",
      "865b2fb03178 Downloading [=============================================>     ]  182.7MB/200.8MB\n",
      "865b2fb03178 Downloading [==============================================>    ]  186.5MB/200.8MB\n",
      "865b2fb03178 Downloading [===============================================>   ]  190.2MB/200.8MB\n",
      "865b2fb03178 Downloading [================================================>  ]    194MB/200.8MB\n",
      "865b2fb03178 Downloading [=================================================> ]  197.7MB/200.8MB\n",
      "865b2fb03178 Verifying Checksum \n",
      "865b2fb03178 Download complete \n",
      "865b2fb03178 Extracting [>                                                  ]  557.1kB/200.8MB\n",
      "865b2fb03178 Extracting [>                                                  ]  3.899MB/200.8MB\n",
      "865b2fb03178 Extracting [==>                                                ]  8.356MB/200.8MB\n",
      "865b2fb03178 Extracting [==>                                                ]  8.913MB/200.8MB\n",
      "865b2fb03178 Extracting [==>                                                ]  11.14MB/200.8MB\n",
      "865b2fb03178 Extracting [===>                                               ]   15.6MB/200.8MB\n",
      "865b2fb03178 Extracting [====>                                              ]  20.05MB/200.8MB\n",
      "865b2fb03178 Extracting [======>                                            ]  24.51MB/200.8MB\n",
      "865b2fb03178 Extracting [=======>                                           ]  28.97MB/200.8MB\n",
      "865b2fb03178 Extracting [========>                                          ]  32.87MB/200.8MB\n",
      "865b2fb03178 Extracting [========>                                          ]  35.65MB/200.8MB\n",
      "865b2fb03178 Extracting [=========>                                         ]  37.88MB/200.8MB\n",
      "865b2fb03178 Extracting [==========>                                        ]  42.34MB/200.8MB\n",
      "865b2fb03178 Extracting [===========>                                       ]  45.68MB/200.8MB\n",
      "865b2fb03178 Extracting [===========>                                       ]  47.91MB/200.8MB\n",
      "865b2fb03178 Extracting [============>                                      ]  49.02MB/200.8MB\n",
      "865b2fb03178 Extracting [============>                                      ]  49.58MB/200.8MB\n",
      "865b2fb03178 Extracting [============>                                      ]  51.81MB/200.8MB\n",
      "865b2fb03178 Extracting [==============>                                    ]  56.26MB/200.8MB\n",
      "865b2fb03178 Extracting [===============>                                   ]  60.72MB/200.8MB\n",
      "865b2fb03178 Extracting [================>                                  ]  66.29MB/200.8MB\n",
      "865b2fb03178 Extracting [=================>                                 ]  70.19MB/200.8MB\n",
      "865b2fb03178 Extracting [==================>                                ]   75.2MB/200.8MB\n",
      "865b2fb03178 Extracting [===================>                               ]  77.43MB/200.8MB\n",
      "865b2fb03178 Extracting [====================>                              ]  81.89MB/200.8MB\n",
      "865b2fb03178 Extracting [=====================>                             ]  84.67MB/200.8MB\n",
      "865b2fb03178 Extracting [======================>                            ]  90.24MB/200.8MB\n",
      "865b2fb03178 Extracting [======================>                            ]   90.8MB/200.8MB\n",
      "865b2fb03178 Extracting [=======================>                           ]  93.03MB/200.8MB\n",
      "865b2fb03178 Extracting [=======================>                           ]  95.26MB/200.8MB\n",
      "865b2fb03178 Extracting [========================>                          ]  99.16MB/200.8MB\n",
      "865b2fb03178 Extracting [=========================>                         ]  103.1MB/200.8MB\n",
      "865b2fb03178 Extracting [==========================>                        ]  106.4MB/200.8MB\n",
      "865b2fb03178 Extracting [===========================>                       ]  109.7MB/200.8MB\n",
      "865b2fb03178 Extracting [============================>                      ]  113.6MB/200.8MB\n",
      "865b2fb03178 Extracting [============================>                      ]  116.4MB/200.8MB\n",
      "865b2fb03178 Extracting [=============================>                     ]  118.7MB/200.8MB\n",
      "865b2fb03178 Extracting [=============================>                     ]  119.8MB/200.8MB\n",
      "865b2fb03178 Extracting [==============================>                    ]    122MB/200.8MB\n",
      "865b2fb03178 Extracting [===============================>                   ]  124.8MB/200.8MB\n",
      "865b2fb03178 Extracting [===============================>                   ]  128.1MB/200.8MB\n",
      "865b2fb03178 Extracting [================================>                  ]  130.4MB/200.8MB\n",
      "865b2fb03178 Extracting [=================================>                 ]  132.6MB/200.8MB\n",
      "865b2fb03178 Extracting [=================================>                 ]  134.8MB/200.8MB\n",
      "865b2fb03178 Extracting [==================================>                ]  137.6MB/200.8MB\n",
      "865b2fb03178 Extracting [===================================>               ]  141.5MB/200.8MB\n",
      "865b2fb03178 Extracting [====================================>              ]  145.4MB/200.8MB\n",
      "865b2fb03178 Extracting [=====================================>             ]  148.7MB/200.8MB\n",
      "865b2fb03178 Extracting [=====================================>             ]  152.1MB/200.8MB\n",
      "865b2fb03178 Extracting [======================================>            ]  154.9MB/200.8MB\n",
      "865b2fb03178 Extracting [=======================================>           ]  157.1MB/200.8MB\n",
      "865b2fb03178 Extracting [=======================================>           ]  159.9MB/200.8MB\n",
      "865b2fb03178 Extracting [=========================================>         ]  164.9MB/200.8MB\n",
      "865b2fb03178 Extracting [=========================================>         ]  167.7MB/200.8MB\n",
      "865b2fb03178 Extracting [==========================================>        ]  172.1MB/200.8MB\n",
      "865b2fb03178 Extracting [===========================================>       ]  174.4MB/200.8MB\n",
      "865b2fb03178 Extracting [============================================>      ]  179.4MB/200.8MB\n",
      "865b2fb03178 Extracting [=============================================>     ]  182.7MB/200.8MB\n",
      "865b2fb03178 Extracting [==============================================>    ]  186.1MB/200.8MB\n",
      "865b2fb03178 Extracting [===============================================>   ]  188.8MB/200.8MB\n",
      "865b2fb03178 Extracting [===============================================>   ]  192.7MB/200.8MB\n",
      "865b2fb03178 Extracting [================================================>  ]  196.6MB/200.8MB\n",
      "865b2fb03178 Extracting [=================================================> ]  197.8MB/200.8MB\n",
      "865b2fb03178 Extracting [=================================================> ]  199.4MB/200.8MB\n",
      "865b2fb03178 Extracting [=================================================> ]    200MB/200.8MB\n",
      "865b2fb03178 Extracting [=================================================> ]  200.5MB/200.8MB\n",
      "865b2fb03178 Extracting [==================================================>]  200.8MB/200.8MB\n",
      "865b2fb03178 Pull complete \n",
      "f01ec0b7fbdb Extracting [==================================================>]      5kB/5kB\n",
      "f01ec0b7fbdb Extracting [==================================================>]      5kB/5kB\n",
      "f01ec0b7fbdb Pull complete \n",
      "mongodb Pulled \n",
      "Network 02nosql_default  Creating\n",
      "Network 02nosql_default  Created\n",
      "Container mongodb  Creating\n",
      "Container mongodb  Created\n",
      "Container 02nosql-mongo-seed-1  Creating\n",
      "Container 02nosql-mongo-seed-1  Created\n",
      "Container mongodb  Starting\n",
      "Container mongodb  Started\n",
      "Container 02nosql-mongo-seed-1  Starting\n",
      "Container 02nosql-mongo-seed-1  Started\n"
     ]
    },
    {
     "name": "stdout",
     "output_type": "stream",
     "text": [
      "\n",
      "#1 transferring dockerfile:\n",
      "#1 transferring dockerfile: 220B 0.0s done\n",
      "#1 DONE 0.0s\n",
      "\n",
      "#2 [internal] load .dockerignore\n",
      "#2 transferring context: 2B done\n",
      "#2 DONE 0.0s\n",
      "\n",
      "#3 [internal] load metadata for docker.io/library/mongo:latest\n",
      "#3 DONE 0.0s\n",
      "\n",
      "#4 [internal] load build context\n",
      "#4 transferring context: 55.75kB 0.0s done\n",
      "#4 DONE 0.1s\n",
      "\n",
      "#5 [1/2] FROM docker.io/library/mongo\n",
      "#5 DONE 0.4s\n",
      "\n",
      "#6 [2/2] COPY country_leaders.json /country_leaders.json\n",
      "#6 DONE 0.6s\n",
      "\n",
      "#7 exporting to image\n",
      "#7 exporting layers 0.0s done\n",
      "#7 writing image sha256:a67416430d8b79c1774fbf4a7214d817f5bcb21adae9c0930574956c299137c9 done\n",
      "#7 naming to docker.io/library/02nosql-mongo-seed done\n",
      "#7 DONE 0.1s\n"
     ]
    }
   ],
   "source": [
    "# You can run it from this notebook with:\n",
    "!docker-compose up -d\n",
    "\n",
    "# Or in your terminal with:\n",
    "# docker-compose up -d"
   ]
  },
  {
   "cell_type": "markdown",
   "metadata": {},
   "source": [
    "### Conneting to the database\n",
    "\n",
    "For using MongoDB through Python you will need to install the `pymongo` library."
   ]
  },
  {
   "cell_type": "code",
   "execution_count": 5,
   "metadata": {},
   "outputs": [
    {
     "data": {
      "text/plain": [
       "['leaders']"
      ]
     },
     "execution_count": 5,
     "metadata": {},
     "output_type": "execute_result"
    }
   ],
   "source": [
    "from pymongo import MongoClient\n",
    "\n",
    "# Creation of a MongoDB Client (by giving the host and the port)\n",
    "client = MongoClient(host=\"localhost\", port=27017)\n",
    "\n",
    "# Instantiation of the database\n",
    "db = client[\"becode\"]\n",
    "\n",
    "# Let's see which collections are in the database\n",
    "db.list_collection_names()"
   ]
  },
  {
   "cell_type": "markdown",
   "metadata": {},
   "source": [
    "### Basic Queries"
   ]
  },
  {
   "cell_type": "markdown",
   "metadata": {},
   "source": [
    "**1. Show the first leader of the `leaders` collection by using the `find_one` method**\n",
    "\n",
    "The corresponding `SQL` query would be:\n",
    "\n",
    "```sql\n",
    "SELECT * FROM leaders LIMIT 1;\n",
    "```"
   ]
  },
  {
   "cell_type": "code",
   "execution_count": 6,
   "metadata": {},
   "outputs": [
    {
     "data": {
      "text/plain": [
       "{'_id': ObjectId('64da27087c3cf3ff960cd957'),\n",
       " 'id': 'Q7747',\n",
       " 'first_name': 'Vladimir',\n",
       " 'last_name': 'Putin',\n",
       " 'birth_date': '1952-10-07',\n",
       " 'death_date': None,\n",
       " 'place_of_birth': 'Saint Petersburg',\n",
       " 'wikipedia_url': 'https://ru.wikipedia.org/wiki/%D0%9F%D1%83%D1%82%D0%B8%D0%BD,_%D0%92%D0%BB%D0%B0%D0%B4%D0%B8%D0%BC%D0%B8%D1%80_%D0%92%D0%BB%D0%B0%D0%B4%D0%B8%D0%BC%D0%B8%D1%80%D0%BE%D0%B2%D0%B8%D1%87',\n",
       " 'start_mandate': '2000-05-07',\n",
       " 'end_mandate': '2008-05-07',\n",
       " 'country': 'ru'}"
      ]
     },
     "execution_count": 6,
     "metadata": {},
     "output_type": "execute_result"
    }
   ],
   "source": [
    "db[\"leaders\"].find_one()"
   ]
  },
  {
   "cell_type": "markdown",
   "metadata": {},
   "source": [
    "**2. Show the first leader of the collection whose country is Belgium**\n",
    "\n",
    "To that purpose we will use the query as first parameter of the `find_one` function. The query is formatted as a dictionary.\n",
    "\n",
    "In SQL it would be like adding a `WHERE` condition to the query:\n",
    "\n",
    "```sql\n",
    "SELECT * FROM leaders WHERE country = 'be' LIMIT 1;\n",
    "```"
   ]
  },
  {
   "cell_type": "code",
   "execution_count": 7,
   "metadata": {},
   "outputs": [
    {
     "data": {
      "text/plain": [
       "{'_id': ObjectId('64da27087c3cf3ff960cd986'),\n",
       " 'id': 'Q12981',\n",
       " 'first_name': 'Yves',\n",
       " 'last_name': 'Leterme',\n",
       " 'birth_date': '1960-10-06',\n",
       " 'death_date': None,\n",
       " 'place_of_birth': 'Wervik',\n",
       " 'wikipedia_url': 'https://nl.wikipedia.org/wiki/Yves_Leterme',\n",
       " 'start_mandate': '2009-11-25',\n",
       " 'end_mandate': '2011-12-06',\n",
       " 'country': 'be'}"
      ]
     },
     "execution_count": 7,
     "metadata": {},
     "output_type": "execute_result"
    }
   ],
   "source": [
    "db[\"leaders\"].find_one({\"country\": \"be\"})"
   ]
  },
  {
   "cell_type": "markdown",
   "metadata": {},
   "source": [
    "**3. Select some fields to display**\n",
    "\n",
    "Let's use the same query by displaying only the `first_name` and the `last_name` of the leader. It corresponds to a `SELECT` in SQL.\n",
    "\n",
    "We will use the [project](https://www.mongodb.com/docs/manual/tutorial/project-fields-from-query-results/) as the second parameter of the function. It is also formatted as a dictionary whose the key contains the targeted field and the value is `1` if we want the field to be displayed\n",
    "\n",
    "The corresponding SQL query would be:\n",
    "\n",
    "```sql\n",
    "SELECT first_name, last_name FROM leaders WHERE country = 'be' LIMIT 1;\n",
    "```"
   ]
  },
  {
   "cell_type": "code",
   "execution_count": 8,
   "metadata": {},
   "outputs": [
    {
     "data": {
      "text/plain": [
       "{'_id': ObjectId('64da27087c3cf3ff960cd986'),\n",
       " 'first_name': 'Yves',\n",
       " 'last_name': 'Leterme'}"
      ]
     },
     "execution_count": 8,
     "metadata": {},
     "output_type": "execute_result"
    }
   ],
   "source": [
    "db[\"leaders\"].find_one({\"country\": \"be\"}, {\"first_name\": 1, \"last_name\": 1})"
   ]
  },
  {
   "cell_type": "markdown",
   "metadata": {},
   "source": [
    "We can also decide to not display a field. In that case we put `0` as value for the dictionary."
   ]
  },
  {
   "cell_type": "code",
   "execution_count": 9,
   "metadata": {},
   "outputs": [
    {
     "data": {
      "text/plain": [
       "{'_id': ObjectId('64da27087c3cf3ff960cd986'),\n",
       " 'first_name': 'Yves',\n",
       " 'last_name': 'Leterme',\n",
       " 'birth_date': '1960-10-06',\n",
       " 'death_date': None,\n",
       " 'place_of_birth': 'Wervik',\n",
       " 'start_mandate': '2009-11-25',\n",
       " 'end_mandate': '2011-12-06',\n",
       " 'country': 'be'}"
      ]
     },
     "execution_count": 9,
     "metadata": {},
     "output_type": "execute_result"
    }
   ],
   "source": [
    "db[\"leaders\"].find_one({\"country\": \"be\"}, {\"wikipedia_url\": 0, \"id\": 0})"
   ]
  },
  {
   "cell_type": "markdown",
   "metadata": {},
   "source": [
    "**4. Find the distinct countries**\n",
    "\n",
    "The SQL equivalent:\n",
    "\n",
    "```sql\n",
    "SELECT DISTINCT country FROM leaders;\n",
    "```"
   ]
  },
  {
   "cell_type": "code",
   "execution_count": 10,
   "metadata": {},
   "outputs": [
    {
     "data": {
      "text/plain": [
       "['be', 'fr', 'ma', 'ru', 'us']"
      ]
     },
     "execution_count": 10,
     "metadata": {},
     "output_type": "execute_result"
    }
   ],
   "source": [
    "db[\"leaders\"].find().distinct(\"country\")"
   ]
  },
  {
   "cell_type": "markdown",
   "metadata": {},
   "source": [
    "**5. Find all the leaders who are still alive**\n",
    "\n",
    "We can assume that they have no `death_date`, isn't?"
   ]
  },
  {
   "cell_type": "code",
   "execution_count": 12,
   "metadata": {},
   "outputs": [
    {
     "data": {
      "text/plain": [
       "<pymongo.cursor.Cursor at 0x228d5532e50>"
      ]
     },
     "execution_count": 12,
     "metadata": {},
     "output_type": "execute_result"
    }
   ],
   "source": [
    "db[\"leaders\"].find({\"death_date\": None}, {\"last_name\":1, \"first_name\":1, \"country\":1})"
   ]
  },
  {
   "cell_type": "markdown",
   "metadata": {},
   "source": [
    "As you see the `find` command returns a cursor. No worries we can process it by using a simple Python loop!"
   ]
  },
  {
   "cell_type": "code",
   "execution_count": 13,
   "metadata": {},
   "outputs": [
    {
     "name": "stdout",
     "output_type": "stream",
     "text": [
      "Vladimir Putin (ru)\n",
      "Mohammed None (ma)\n",
      "Dmitry Medvedev (ru)\n",
      "Mohammed None (ma)\n",
      "Mohammed None (ma)\n",
      "Barack Obama (us)\n",
      "Joe Biden (us)\n",
      "Bill Clinton (us)\n",
      "George Bush (us)\n",
      "Donald Trump (us)\n",
      "Jimmy Carter (us)\n",
      "Yves Leterme (be)\n",
      "Herman Van Rompaey (be)\n",
      "Guy Verhofstadt (be)\n",
      "Elio Di Rupo (be)\n",
      "Alexander De Croo (be)\n",
      "Mark Eyskens (be)\n",
      "Sophie Wilmès (be)\n",
      "François Hollande (fr)\n",
      "Nicolas Sarkozy (fr)\n",
      "Charles Michel (be)\n",
      "Emmanuel Macron (fr)\n"
     ]
    }
   ],
   "source": [
    "for leader in db[\"leaders\"].find({\"death_date\": None}, {\"last_name\":1, \"first_name\":1, \"country\":1}):\n",
    "    print(f\"{leader['first_name']} {leader['last_name']} ({leader['country']})\")"
   ]
  },
  {
   "cell_type": "markdown",
   "metadata": {},
   "source": [
    "**6. Let's now insert the leader of tomorrow: you?**\n",
    "\n",
    "As you know, MongoDB is flexible. It means that you can add entries although some fields are missing. Let's give a try:"
   ]
  },
  {
   "cell_type": "code",
   "execution_count": 14,
   "metadata": {},
   "outputs": [
    {
     "data": {
      "text/plain": [
       "<pymongo.results.InsertOneResult at 0x228d4301450>"
      ]
     },
     "execution_count": 14,
     "metadata": {},
     "output_type": "execute_result"
    }
   ],
   "source": [
    "you = {\n",
    "    'first_name': 'ADD HERE YOUR FIRST NAME',\n",
    "    'last_name': 'ADD HERE YOUR LAST NAME',\n",
    "    'birth_date': 'ADD HERE YOUR BIRTH DATE',\n",
    "    'country': 'ADD HERE YOUR COUNTRY CODE'\n",
    "}\n",
    "db[\"leaders\"].insert_one(you)"
   ]
  },
  {
   "cell_type": "markdown",
   "metadata": {},
   "source": [
    "Let's have a look to your data!"
   ]
  },
  {
   "cell_type": "code",
   "execution_count": 15,
   "metadata": {},
   "outputs": [
    {
     "data": {
      "text/plain": [
       "{'_id': ObjectId('64da27ea17ab33d0790aedb2'),\n",
       " 'first_name': 'ADD HERE YOUR FIRST NAME',\n",
       " 'last_name': 'ADD HERE YOUR LAST NAME',\n",
       " 'birth_date': 'ADD HERE YOUR BIRTH DATE',\n",
       " 'country': 'ADD HERE YOUR COUNTRY CODE'}"
      ]
     },
     "execution_count": 15,
     "metadata": {},
     "output_type": "execute_result"
    }
   ],
   "source": [
    "db[\"leaders\"].find_one({\"first_name\": \"ADD HERE YOUR FIRST NAME\"})"
   ]
  },
  {
   "cell_type": "markdown",
   "metadata": {},
   "source": [
    "We can observe two things here:\n",
    "- A field `_id` has been automatically added by Mongo. This field is incremental. That means that it will always be higher than the previous element of the collection.\n",
    "- Some fields are missing (the `place_of_birth` for instance). This is a property of NoSQL. All fields are not mandatory!\n",
    "\n",
    "We can check missing values by using the query `{\"$exists\":False}`:"
   ]
  },
  {
   "cell_type": "code",
   "execution_count": 16,
   "metadata": {},
   "outputs": [
    {
     "name": "stdout",
     "output_type": "stream",
     "text": [
      "{'_id': ObjectId('64da27ea17ab33d0790aedb2'), 'first_name': 'ADD HERE YOUR FIRST NAME', 'last_name': 'ADD HERE YOUR LAST NAME', 'birth_date': 'ADD HERE YOUR BIRTH DATE', 'country': 'ADD HERE YOUR COUNTRY CODE'}\n"
     ]
    }
   ],
   "source": [
    "for leader in db[\"leaders\"].find({\"place_of_birth\":{\"$exists\":False}}):\n",
    "    print(leader)"
   ]
  },
  {
   "cell_type": "markdown",
   "metadata": {},
   "source": [
    "### Update data\n",
    "\n",
    "Since your place of birth is missing in the data, let's add it now. The update function has two main arguments:\n",
    "- a query that will select the entries to update\n",
    "- an update operation. As always, it is formatted as a dictionary"
   ]
  },
  {
   "cell_type": "code",
   "execution_count": 17,
   "metadata": {},
   "outputs": [
    {
     "data": {
      "text/plain": [
       "<pymongo.results.UpdateResult at 0x228d551e800>"
      ]
     },
     "execution_count": 17,
     "metadata": {},
     "output_type": "execute_result"
    }
   ],
   "source": [
    "db[\"leaders\"].update_one({\"first_name\": \"ADD HERE YOUR FIRST NAME\"}, {\"$set\": {\"place_of_birth\": \"ADD HERE YOUR PLACE OF BIRTH\"}})"
   ]
  },
  {
   "cell_type": "markdown",
   "metadata": {},
   "source": [
    "#### Remove data\n",
    "\n",
    "Your dream is over ;-) Since you will not be a leader of tomorrow, we will remove you from the collection. The `delete` (or `delete_one`) function has one main argument: the query that will select the entries to be removed."
   ]
  },
  {
   "cell_type": "code",
   "execution_count": 18,
   "metadata": {},
   "outputs": [
    {
     "data": {
      "text/plain": [
       "<pymongo.results.DeleteResult at 0x228d3286890>"
      ]
     },
     "execution_count": 18,
     "metadata": {},
     "output_type": "execute_result"
    }
   ],
   "source": [
    "db[\"leaders\"].delete_one({\"first_name\": \"ADD HERE YOUR FIRST NAME\"})"
   ]
  },
  {
   "cell_type": "markdown",
   "metadata": {},
   "source": [
    "## Your Turn!\n",
    "\n",
    "Based on your knowledge and some Google search try to create the following queries:\n",
    "\n",
    "- Remove the leaders who have an empty or null (`None`) last name\n",
    "- Display all unique first names from the collection\n",
    "- Transform all the dates of the dataset by a datetime object (they are currently strings which is not a good practice). You can use a python script that interacts with the DB instead of doing everything in a single query\n",
    "- Display the 10 older leaders ordered by their birth date (search for how to sort and to use limits in MongoDB)\n",
    "- Create a Python script that computes the numbers of leaders by country\n",
    "- Do the same by using a MongoDB [aggregation pipeline](https://www.mongodb.com/docs/manual/aggregation/)"
   ]
  },
  {
   "cell_type": "code",
   "execution_count": null,
   "metadata": {},
   "outputs": [],
   "source": [
    "# Your code here (feel free to add some extra code blocks!)"
   ]
  },
  {
   "cell_type": "markdown",
   "metadata": {},
   "source": [
    "## Resources:\n",
    "* [NoSQL Concepts (DataCamp)](https://www.datacamp.com/courses/nosql-concepts)\n",
    "* [Introduction to MongoDB using Python (DataCamp)](https://www.datacamp.com/courses/introduction-to-using-mongodb-for-data-science-with-python)\n",
    "* [Getting started with MongoDB](https://docs.mongodb.com/manual/tutorial/)\n",
    "* [Python MongoDB Tutorial](https://www.mongodb.com/blog/post/getting-started-with-python-and-mongodb)\n",
    "* [Introduction to MongoDB Learning Path](https://learn.mongodb.com/learning-paths/introduction-to-mongodb)\n",
    "* [Build an App With Python, Flask, and MongoDB to Track UFOs](https://www.mongodb.com/developer/languages/python/flask-app-ufo-tracking/)"
   ]
  }
 ],
 "metadata": {
  "kernelspec": {
   "display_name": "Python 3.8.6 64-bit",
   "language": "python",
   "name": "python3"
  },
  "language_info": {
   "codemirror_mode": {
    "name": "ipython",
    "version": 3
   },
   "file_extension": ".py",
   "mimetype": "text/x-python",
   "name": "python",
   "nbconvert_exporter": "python",
   "pygments_lexer": "ipython3",
   "version": "3.11.0"
  },
  "vscode": {
   "interpreter": {
    "hash": "082e9a3bcad0a290d0001e938aa60b99250c6c2ef33a923c00b70f9826caf4b7"
   }
  }
 },
 "nbformat": 4,
 "nbformat_minor": 4
}
