{
 "cells": [
  {
   "cell_type": "markdown",
   "metadata": {
    "id": "UGmFF6jc3L3q"
   },
   "source": [
    "# SQL Alchemy: Drill\n",
    "\n",
    "We will create a small database that contains quotes from authors and the name of the author. For this exercise, we will use `SQLite` which is very easy to implement. But don't forget that the advantage of ORMs is that they can be used in the same way, no matter what the database."
   ]
  },
  {
   "cell_type": "markdown",
   "metadata": {
    "id": "6mlY8-GS48_p"
   },
   "source": [
    "## What Is SQLite?  \n",
    "\n",
    "[SQLite](https://www.sqlite.org/index.html) is a C-language library that implements a small, fast, self-contained, high-reliability, full-featured, SQL database engine. SQLite is the most used database engine in the world. It is built into all mobile phones and most computers and comes bundled inside countless other applications that people use every day."
   ]
  },
  {
   "cell_type": "markdown",
   "metadata": {
    "id": "139VJ7Jr5uhL"
   },
   "source": [
    "The imports: <p style=\"color:red;\"><b >⚠️ You must have SQL_Alchemy version 1.4 or higher</b></p>\n",
    "\n",
    "We have already imported some helpful modules to approach the drill. Don't forget to check the documentation to review some of them as needed. "
   ]
  },
  {
   "cell_type": "code",
   "execution_count": 1,
   "metadata": {
    "id": "Bv03iT3758eQ"
   },
   "outputs": [],
   "source": [
    "#!pip install sqlalchemy==1.4"
   ]
  },
  {
   "cell_type": "code",
   "execution_count": null,
   "metadata": {
    "id": "XXUNjQ0jiy65"
   },
   "outputs": [],
   "source": [
    "from sqlalchemy import create_engine\n",
    "import datetime as dt\n",
    "from sqlalchemy import Column, Date, Integer, Text, create_engine, inspect\n",
    "from sqlalchemy.orm import sessionmaker"
   ]
  },
  {
   "cell_type": "markdown",
   "metadata": {
    "id": "ylb0QujzdsUm"
   },
   "source": [
    "## ORM configuration\n",
    "---"
   ]
  },
  {
   "cell_type": "markdown",
   "metadata": {
    "id": "0oSJE3yCZ9zS"
   },
   "source": [
    "**1. Create an `engine` variable that contains an instance of `create_engine()`.**  \n",
    " \n",
    "You must specify the type of database, in this case sqlite, and specify the path to the database `/content/data.db`. *(You can put the path you want if you don't use Google Colab)* `create_engine()` will create the data.db file if it does not exist."
   ]
  },
  {
   "cell_type": "code",
   "execution_count": null,
   "metadata": {
    "id": "lT1hwcOpP8IY"
   },
   "outputs": [],
   "source": [
    "# Your code here"
   ]
  },
  {
   "cell_type": "markdown",
   "metadata": {
    "id": "UTRefMob2CDy"
   },
   "source": [
    "**2. Create a `mapper_registry` variable which contains an instance of `registry()`.**"
   ]
  },
  {
   "cell_type": "code",
   "execution_count": null,
   "metadata": {},
   "outputs": [],
   "source": [
    "# Your code here"
   ]
  },
  {
   "cell_type": "markdown",
   "metadata": {
    "id": "wxWjmbZAa3gq"
   },
   "source": [
    "**3. Create a `Base` variable which contains an instance of `mapper_registry.generate_base()`.**  \n",
    "\n",
    "This method allows to manage and create the models that we will use later."
   ]
  },
  {
   "cell_type": "code",
   "execution_count": null,
   "metadata": {
    "id": "jMvofMmmP_7D"
   },
   "outputs": [],
   "source": [
    "# Your code here"
   ]
  },
  {
   "cell_type": "markdown",
   "metadata": {
    "id": "pRe0HaEeb1sV"
   },
   "source": [
    "**4. Create a `Maker` variable that contains an instance of `sessionmaker()`.**  \n",
    "\n",
    "This class allows us to manage transactions with the database."
   ]
  },
  {
   "cell_type": "code",
   "execution_count": null,
   "metadata": {
    "id": "Myb-10BVQHl9"
   },
   "outputs": [],
   "source": [
    "# Your code here"
   ]
  },
  {
   "cell_type": "markdown",
   "metadata": {
    "id": "6Xhdtl4Jb6w2"
   },
   "source": [
    "**5. Create a `session` variable.**  \n",
    "\n",
    "This variable contains an instance of `Maker` with the parameter `bind` which has the value `engine`."
   ]
  },
  {
   "cell_type": "code",
   "execution_count": null,
   "metadata": {
    "id": "q86kcOp0QtgG"
   },
   "outputs": [],
   "source": [
    "# Your code here"
   ]
  },
  {
   "cell_type": "markdown",
   "metadata": {
    "id": "VY9PhgFedzF8"
   },
   "source": [
    "## Creation of the model\n",
    "---"
   ]
  },
  {
   "cell_type": "markdown",
   "metadata": {
    "id": "eoDyzNBcYfJk"
   },
   "source": [
    "**6. Create a `class Quotation` which inherits from the previously created `Base` class.**\n",
    "\n",
    "This class will have 4 attributes: \n",
    "\n",
    "- **\\_\\_tablename\\_\\_**: which contains the name of the `quotation` table that we are going to use.\n",
    "\n",
    "- **id**: which has the method `Column`. This column will be an `Integer` attribute and will have the `primary_key` attribute set to `True`\n",
    "\n",
    "- **quote_quotation**: which has the method `Column` which will have an attribute `Text` and the attribute `nullable` set to `False`\n",
    "\n",
    "- **quote_author**: which has the `Column` method and will have a `Text` attribute and the `nullable` attribute set to `False`\n",
    "\n"
   ]
  },
  {
   "cell_type": "code",
   "execution_count": null,
   "metadata": {
    "id": "h-wbmi-eT6iv"
   },
   "outputs": [],
   "source": [
    "# Your code"
   ]
  },
  {
   "cell_type": "markdown",
   "metadata": {
    "id": "ptgjvCWkpvjt"
   },
   "source": [
    "**7. Create the table using the method `Base.metadata.create_all()`.**  \n",
    "Assign the `engine` value to the bind `parameter`."
   ]
  },
  {
   "cell_type": "code",
   "execution_count": null,
   "metadata": {
    "id": "lKrneBSppt3M"
   },
   "outputs": [],
   "source": [
    "# Your code"
   ]
  },
  {
   "cell_type": "markdown",
   "metadata": {
    "id": "6WagPpwseVEz"
   },
   "source": [
    "## The transactions\n",
    "---\n",
    "\n",
    "### Create"
   ]
  },
  {
   "cell_type": "markdown",
   "metadata": {
    "id": "fEhrlDXGeat9"
   },
   "source": [
    "**8. Create a varible `new_quotation` that contains an instance of `Quotation`.** \n",
    "\n",
    "For the `quote_quotation` parameter assign the following sentence:\n",
    "> “The world as we have created it is a process of our thinking. It cannot be changed without changing our thinking.”\n",
    "\n",
    "For the parameter `quote_author` assign the value *'Albert Einstein'*"
   ]
  },
  {
   "cell_type": "code",
   "execution_count": null,
   "metadata": {
    "id": "9aQCVKrKf0lk"
   },
   "outputs": [],
   "source": [
    "# Your code "
   ]
  },
  {
   "cell_type": "markdown",
   "metadata": {
    "id": "fHgjox4_gRM8"
   },
   "source": [
    "**9. You will have to add the transaction. To do this, use the `session.add() ` method with `new_quotation` as argument.**"
   ]
  },
  {
   "cell_type": "code",
   "execution_count": null,
   "metadata": {
    "id": "q3ffj9oTf48Y"
   },
   "outputs": [],
   "source": [
    "# Your code "
   ]
  },
  {
   "cell_type": "markdown",
   "metadata": {
    "id": "lRBMGIzig3wD"
   },
   "source": [
    "**10. The transaction has been added but not yet executed. To finish the transaction, you must use the `session.commit()` method.**\n",
    "You don't have to pass any arguments."
   ]
  },
  {
   "cell_type": "code",
   "execution_count": null,
   "metadata": {
    "id": "4HmA8K6Gg4cd"
   },
   "outputs": [],
   "source": [
    "# Your code"
   ]
  },
  {
   "cell_type": "markdown",
   "metadata": {
    "id": "DPW8bSAlhms7"
   },
   "source": [
    "**11. Add all these sentences to the database (use a single commit):**"
   ]
  },
  {
   "cell_type": "code",
   "execution_count": null,
   "metadata": {
    "id": "kfaQ_gESh21a"
   },
   "outputs": [],
   "source": [
    "data = [\n",
    "    {\"author\": \"Oscar Wilde\", \"text\": \"Beauty is in the eyes of the beholder.\"},\n",
    "    {\"author\": \"Marcel Proust\", \"text\": \"Beauty is not in the colors, but in their harmony.\"},\n",
    "    {\"author\": \"Philippe Claudel\", \"text\": \"Each letter has a scent, each verb, a perfume. Each word diffuses in the memory a place and its fragrances. And the text that gradually weaves itself, with the combined hazards of the alphabet and remembrance, then becomes the wonderful river, a thousand times branched and fragrant, of our dreamed life, our lived life, our life to come, which in turn carries us away and reveals us.\"},\n",
    "    {\"author\": \"Tintin\", \"text\": \"That’s one small step for man, on giant leap for mankind.\"},\n",
    "    {\"author\": \"François Weyergans\", \"text\": \"A dream that is not interpreted is like a letter that is not read.\"},\n",
    "    {\"author\": \"Vincent Van Gogh\", \"text\": \"I dream my painting, then I paint my dream.\"},\n",
    "    {\"author\": \"Hugues de Saint-Victor\", \"text\": \"An idle young man is like a young bull without the yoke.\"},\n",
    "    {\"author\": \"George Bernard Shaw\", \"text\": \"Marriage is the story of a young man and a young girl who pick a flower and receive an avalanche on their heads.\"},\n",
    "    {\"author\": \"Alain Tastet\", \"text\": \"I never dream at night, my only dream is to be awake beside you...\"},\n",
    "    {\"author\": \"Oscar Wilde\", \"text\":\"Be yourself; everyone else is already taken.\"},\n",
    "    {\"author\": \"Alain Tastet\", \"text\":\"This is a false quote...\"}\n",
    "]"
   ]
  },
  {
   "cell_type": "code",
   "execution_count": null,
   "metadata": {
    "id": "jXqCvLDij4bD"
   },
   "outputs": [],
   "source": [
    "# Your code"
   ]
  },
  {
   "cell_type": "markdown",
   "metadata": {
    "id": "hQFegS_cjRBF"
   },
   "source": [
    "### Read\n",
    "\n",
    "**12. Display all quotes and authors in this form: 'This is a quote' - Author**"
   ]
  },
  {
   "cell_type": "code",
   "execution_count": null,
   "metadata": {
    "colab": {
     "base_uri": "https://localhost:8080/"
    },
    "id": "zioBwugkC_H3",
    "outputId": "0cdf1d0d-a7b4-45e8-ca22-58d97aaf30c4"
   },
   "outputs": [],
   "source": [
    "# Your code"
   ]
  },
  {
   "cell_type": "markdown",
   "metadata": {
    "id": "NAsd9Zbsk73W"
   },
   "source": [
    "**13. Display the sentence with `id 8`.**"
   ]
  },
  {
   "cell_type": "code",
   "execution_count": null,
   "metadata": {
    "id": "SujPf7qGlVsA"
   },
   "outputs": [],
   "source": [
    "# Your code"
   ]
  },
  {
   "cell_type": "markdown",
   "metadata": {
    "id": "Tub_Iin4lWNh"
   },
   "source": [
    "**14. Display all quotes by `Oscar Wilde`.**\n"
   ]
  },
  {
   "cell_type": "code",
   "execution_count": null,
   "metadata": {
    "id": "ibptZxZJlg2X"
   },
   "outputs": [],
   "source": [
    "# Your code"
   ]
  },
  {
   "cell_type": "markdown",
   "metadata": {
    "id": "vRtxs03pjVtb"
   },
   "source": [
    "### Update \n",
    "\n",
    "**15. Make an update of the sentence:** \n",
    ">\"That’s one small step for man, on giant leap for mankind.\" \n",
    "\n",
    "and **replace the author who is `Tintin` by `Neil Armstrong`**."
   ]
  },
  {
   "cell_type": "code",
   "execution_count": null,
   "metadata": {
    "id": "3PgFPT1WjUsY"
   },
   "outputs": [],
   "source": [
    "# Your code"
   ]
  },
  {
   "cell_type": "markdown",
   "metadata": {
    "id": "LjRrmfj2lwhQ"
   },
   "source": [
    "### Delete\n",
    "\n",
    "**16. Delete all quotes by `Alain Tastet`.**"
   ]
  },
  {
   "cell_type": "code",
   "execution_count": null,
   "metadata": {
    "id": "NV0UUxcOmmwq"
   },
   "outputs": [],
   "source": [
    "# Your code"
   ]
  },
  {
   "cell_type": "markdown",
   "metadata": {
    "id": "-e9EMKy8mnOS"
   },
   "source": [
    "**17. Delete the quote with the `id 2`.** "
   ]
  },
  {
   "cell_type": "code",
   "execution_count": null,
   "metadata": {
    "id": "JswdTo5Kmrwr"
   },
   "outputs": [],
   "source": [
    "# Your code"
   ]
  },
  {
   "cell_type": "markdown",
   "metadata": {},
   "source": [
    "## That's it!\n",
    "You have built a database and acquired many new tools to interact with it. On to the next step!\n",
    "\n",
    "![tools](https://media.giphy.com/media/xT0xekLZmeC54FCTJu/giphy-downsized-large.gif) \n",
    "\n",
    "## Resources\n",
    "\n",
    "- [Udacity Database Setup using SQLAlchemy](https://github.com/udacity/Full-Stack-Foundations/blob/master/Lesson_1/database_setup.py)\n",
    "- [Cheat sheet SQL Alchemy](https://www.pythonsheets.com/notes/python-sqlalchemy.html)"
   ]
  }
 ],
 "metadata": {
  "colab": {
   "collapsed_sections": [],
   "name": "drill_sql_alchemy.ipynb",
   "provenance": []
  },
  "kernelspec": {
   "display_name": "Python 3.9.13 64-bit (microsoft store)",
   "language": "python",
   "name": "python3"
  },
  "language_info": {
   "codemirror_mode": {
    "name": "ipython",
    "version": 3
   },
   "file_extension": ".py",
   "mimetype": "text/x-python",
   "name": "python",
   "nbconvert_exporter": "python",
   "pygments_lexer": "ipython3",
   "version": "3.11.0"
  },
  "vscode": {
   "interpreter": {
    "hash": "5af58ead5434bcaec4ba320c097b4ab95f4d47b5cc097d838e053a401accc545"
   }
  }
 },
 "nbformat": 4,
 "nbformat_minor": 1
}
