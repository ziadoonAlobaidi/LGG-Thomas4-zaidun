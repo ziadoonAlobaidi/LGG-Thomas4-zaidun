{
 "cells": [
  {
   "cell_type": "markdown",
   "metadata": {},
   "source": [
    "# SQL: Basic queries on relational databases\n",
    "\n",
    "## Relational databases: Review\n",
    "\n",
    "A **relational database** is a way of structuring information in tables, rows, and columns. You could compare it to an excel file (database) with several sheets (tables) that contain tabular data (rows and columns). The particularity of this database is its ability to create relationships between those tables by joining them.\n",
    "\n",
    "What is a `join`? Let's take an example by looking at the schema of a database of a music producer. You can see here that certain fields are common between several tables.\n",
    "\n",
    "For example: `ArtistID` exists in `artists` and in `albums`. Consequently the information from an artist can be included (_joined_) to the information of his/her albums.\n",
    "\n",
    "<img src=\"https://www.sqlitetutorial.net/wp-content/uploads/2015/11/sqlite-sample-database-color.jpg\" />\n",
    "\n",
    "SQL (Structured Query Language) is one of the most common languages for interacting with a relational database. It allows you to perform efficient and precise queries on the database, including queries among different tables.\n",
    "\n",
    "SQL mainly allows you to `select`, `insert`, `update` or `delete` data from the DB.\n",
    "\n",
    "Before diving in the exercises:\n",
    "\n",
    "- You can learn the basics of SQL language by practicing [this tutorial](https://www.w3schools.com/sql/sql_syntax.asp)\n",
    "- Try to understand the structure of the DB based on its schema. You will get more information about it [here](https://www.sqlitetutorial.net/sqlite-sample-database/)\n",
    "\n",
    "Now, let's do some exercices by using SQLite and the python module `sqlite3`. You don't need to install it, it is included in the Python distribution. Read more: [SQLite3 Documentation](https://docs.python.org/3/library/sqlite3.html).\n",
    "\n",
    "\n"
   ]
  },
  {
   "cell_type": "markdown",
   "metadata": {},
   "source": [
    "### Connetion to the database\n",
    "\n",
    "We need to create a new database and open a database connection to allow `sqlite3` to work with it. Call `sqlite3.connect()` to create a connection to the database in the current working directory, implicitly creating it if it does not exist.\n",
    "\n",
    "In order to execute SQL statements and fetch results from SQL queries, we will need to use a database cursor. Call `con.cursor()` to create the `Cursor`."
   ]
  },
  {
   "cell_type": "code",
   "execution_count": 10,
   "metadata": {},
   "outputs": [],
   "source": [
    "import sqlite3\n",
    "\n",
    "connexion = sqlite3.connect(\"data/chinook.db\")\n",
    "cursor = connexion.cursor()"
   ]
  },
  {
   "cell_type": "markdown",
   "metadata": {},
   "source": [
    "## Basic Queries\n",
    "\n",
    "**1. Show the 10 first entries of the table `artists`**\n",
    "\n",
    "The basic command in SQL is `SELECT` which is used for retrieving elements of certain columns `FROM` a table. `SELECT` indicates the columns to retrieve. By using `*` we chose to get keep all the columns. The keyword `LIMIT` is used for retrieving only the first `n` rows from the table.\n",
    "\n",
    "You can use `cursor.execute()` to execute that query and call `cursor.fetchall()` to fetch the resulting rows.\n"
   ]
  },
  {
   "cell_type": "code",
   "execution_count": 11,
   "metadata": {},
   "outputs": [
    {
     "data": {
      "text/plain": [
       "[(1, 'AC/DC'),\n",
       " (2, 'Accept'),\n",
       " (3, 'Aerosmith'),\n",
       " (4, 'Alanis Morissette'),\n",
       " (5, 'Alice In Chains'),\n",
       " (6, 'Antônio Carlos Jobim'),\n",
       " (7, 'Apocalyptica'),\n",
       " (8, 'Audioslave'),\n",
       " (9, 'BackBeat'),\n",
       " (10, 'Billy Cobham')]"
      ]
     },
     "execution_count": 11,
     "metadata": {},
     "output_type": "execute_result"
    }
   ],
   "source": [
    "cursor.execute(\"\"\"\n",
    "    SELECT\n",
    "        *\n",
    "    FROM\n",
    "        artists\n",
    "    LIMIT 10;\n",
    "\"\"\")\n",
    "cursor.fetchall()"
   ]
  },
  {
   "cell_type": "markdown",
   "metadata": {},
   "source": [
    "**2. Find the ID of Aerosmith** \n",
    "\n",
    "Let's introduce here conditions by using the keyword `WHERE`. The goal is to retrieve only the rows that meet a given condition.\n",
    "\n",
    "Here we will retrive here the column `artistId` from the table `artists` for the entries whose the name is `Aerosmith`."
   ]
  },
  {
   "cell_type": "code",
   "execution_count": 12,
   "metadata": {
    "tags": []
   },
   "outputs": [
    {
     "data": {
      "text/plain": [
       "3"
      ]
     },
     "execution_count": 12,
     "metadata": {},
     "output_type": "execute_result"
    }
   ],
   "source": [
    "query1 = f\"\"\"\n",
    "    SELECT\n",
    "        artistId\n",
    "    FROM\n",
    "        artists\n",
    "    WHERE\n",
    "        name = 'Aerosmith';\n",
    "\"\"\"\n",
    "cursor.execute(query1)\n",
    "artist_id = cursor.fetchone()[0]\n",
    "\n",
    "artist_id"
   ]
  },
  {
   "cell_type": "markdown",
   "metadata": {},
   "source": [
    "**3. Find the IDs of the albums of Aerosmith**\n",
    "\n",
    "Now that we have the `artistId` of Aerosmith we can use it in another query. We will retrieve the field `albumId` for the rows from album whose `artistId` is the one of Aerosmith."
   ]
  },
  {
   "cell_type": "code",
   "execution_count": 13,
   "metadata": {
    "tags": []
   },
   "outputs": [
    {
     "name": "stdout",
     "output_type": "stream",
     "text": [
      "['5']\n"
     ]
    }
   ],
   "source": [
    "query2 = f\"\"\"\n",
    "    SELECT\n",
    "        albumId\n",
    "    FROM \n",
    "        albums \n",
    "    WHERE \n",
    "        artistId = '{artist_id}';\n",
    "\"\"\"\n",
    "albums_ids = []\n",
    "for row in cursor.execute(query2):\n",
    "    albums_ids.append(str(row[0]))\n",
    "\n",
    "print(albums_ids)"
   ]
  },
  {
   "cell_type": "markdown",
   "metadata": {},
   "source": [
    "**4. Find the track names of the albums of Aerosmith**\n",
    "\n",
    "Now that we have the ids of all the albums of Aerosmith we can look for the tracks that are in those albums. We will introduce here the `DISTINCT` keyword that will retrieve unique values only.\n"
   ]
  },
  {
   "cell_type": "code",
   "execution_count": 14,
   "metadata": {
    "tags": []
   },
   "outputs": [
    {
     "name": "stdout",
     "output_type": "stream",
     "text": [
      "Walk On Water\n",
      "Love In An Elevator\n",
      "Rag Doll\n",
      "What It Takes\n",
      "Dude (Looks Like A Lady)\n",
      "Janie's Got A Gun\n",
      "Cryin'\n",
      "Amazing\n",
      "Blind Man\n",
      "Deuces Are Wild\n",
      "The Other Side\n",
      "Crazy\n",
      "Eat The Rich\n",
      "Angel\n",
      "Livin' On The Edge\n"
     ]
    }
   ],
   "source": [
    "query3 = f\"\"\"\n",
    "    SELECT\n",
    "        DISTINCT name\n",
    "    FROM\n",
    "        tracks\n",
    "    WHERE \n",
    "        albumId IN ({\",\".join(albums_ids)});\n",
    "\"\"\"\n",
    "\n",
    "for row in cursor.execute(query3):\n",
    "    print(row[0])"
   ]
  },
  {
   "cell_type": "markdown",
   "metadata": {},
   "source": [
    "**5. Put that in a single query!**\n",
    "\n",
    "Let's do everything we have done so far in a single query.\n",
    "\n",
    "Before that it is important to understand the concept of `PRIMARY KEY` and `FOREIGN KEY`:\n",
    "\n",
    "- **Primary Keys** are fields that are **unique** and cannot be null. It uniquely identifies each record in a table (in general this is the `id` of the item). Each table can have zero or one primary key (not more). This key can consist of one or multiple columns. \n",
    "- **Foreign Keys** are fields in one table that refer to the primary key of another table. One table can contain multiple foreign keys.\n",
    "\n",
    "Let's take an example: \n",
    "* In our dataset the table `artists` has `artistId` as primary key. The table `albums` uses `artistId` as a foreign key to refer to the table `artists`. \n",
    "* The idea of joining table is based on that: we will use the `JOIN` keyword in order to put information from different tables together by using common keys. \n",
    "* The keyword `ON` will specify which keys will be used to join the tables."
   ]
  },
  {
   "cell_type": "code",
   "execution_count": 15,
   "metadata": {},
   "outputs": [
    {
     "name": "stdout",
     "output_type": "stream",
     "text": [
      "Walk On Water\n",
      "Love In An Elevator\n",
      "Rag Doll\n",
      "What It Takes\n",
      "Dude (Looks Like A Lady)\n",
      "Janie's Got A Gun\n",
      "Cryin'\n",
      "Amazing\n",
      "Blind Man\n",
      "Deuces Are Wild\n",
      "The Other Side\n",
      "Crazy\n",
      "Eat The Rich\n",
      "Angel\n",
      "Livin' On The Edge\n"
     ]
    }
   ],
   "source": [
    "query4 = f\"\"\"\n",
    "    SELECT\n",
    "        distinct(tracks.name)\n",
    "    FROM\n",
    "        artists\n",
    "        JOIN albums ON artists.artistId = albums.artistId\n",
    "        JOIN tracks ON albums.albumId = tracks.albumId\n",
    "    WHERE \n",
    "        artists.name = 'Aerosmith';\n",
    "\"\"\"\n",
    "\n",
    "songs = set()\n",
    "for row in cursor.execute(query4):\n",
    "    print(row[0])\n",
    "    "
   ]
  },
  {
   "cell_type": "markdown",
   "metadata": {},
   "source": [
    "**6. Get the most productive artists**\n",
    "\n",
    "Let's count the number of albums by artist by using `GROUP BY`. We will select the artists and group all the albums they have released.\n",
    "\n",
    "`COUNT` will count the number of albums and `AS` will give a variable name to the counter (`nb_albums`).\n",
    "\n",
    "`ORDER BY` will rank the results according to the variable `nb_albums`. `DESC` gives the orientation of the rank (in that case: descending)\n",
    "\n",
    "`LIMIT` will show only the first results of the ranking (i.e. the most productive artists)."
   ]
  },
  {
   "cell_type": "code",
   "execution_count": 16,
   "metadata": {},
   "outputs": [
    {
     "data": {
      "text/plain": [
       "[('Iron Maiden', 21),\n",
       " ('Led Zeppelin', 14),\n",
       " ('Deep Purple', 11),\n",
       " ('Metallica', 10),\n",
       " ('U2', 10),\n",
       " ('Ozzy Osbourne', 6),\n",
       " ('Pearl Jam', 5),\n",
       " ('Various Artists', 4),\n",
       " ('Faith No More', 4),\n",
       " ('Foo Fighters', 4)]"
      ]
     },
     "execution_count": 16,
     "metadata": {},
     "output_type": "execute_result"
    }
   ],
   "source": [
    "query5 = \"\"\"\n",
    "\n",
    "    SELECT\n",
    "        artists.Name,\n",
    "        count(*) AS nb_albums\n",
    "    FROM\n",
    "        artists\n",
    "        JOIN albums on albums.ArtistId = artists.ArtistId\n",
    "    GROUP BY\n",
    "        artists.ArtistId\n",
    "    ORDER BY\n",
    "        nb_albums DESC\n",
    "    LIMIT 10;\n",
    "\n",
    "\"\"\"\n",
    "cursor.execute(query5)\n",
    "cursor.fetchall()"
   ]
  },
  {
   "cell_type": "markdown",
   "metadata": {},
   "source": [
    "#### Your turn!\n",
    "\n",
    "Based on your knowledge and some Google search try to create the following queries:\n",
    "\n",
    "- Count the number of tracks for all the albums of AC/DC\n",
    "- List all the artists doing 'Metal' (genre)\n",
    "- List the top 10 of invoiced countries\n",
    "- Calculate the total amount billed to each customer"
   ]
  },
  {
   "cell_type": "code",
   "execution_count": null,
   "metadata": {},
   "outputs": [],
   "source": [
    "# Code"
   ]
  },
  {
   "cell_type": "markdown",
   "metadata": {},
   "source": [
    "## Resources\n",
    "\n",
    "- [Top 70 most important queries](https://bytescout.com/blog/20-important-sql-queries.html)\n",
    "- [SQL Murder Mystery](https://mystery.knightlab.com/): Use SQL to find the MURDERER\n",
    "- [TablePlus](https://tableplus.com/): A nice editor for SQL queries\n",
    "- [SQL Fundamentals ](https://app.datacamp.com/learn/skill-tracks/sql-fundamentals)(DataCamp Track, 5 courses)\n",
    "- [SQL for Business Analysts ](https://app.datacamp.com/learn/skill-tracks/sql-for-business-analysts)(DataCamp Track, 5 courses)\n",
    "- [Data Analyst in SQL ](https://app.datacamp.com/learn/career-tracks/data-analyst-in-sql)(DataCamp Track, 12 courses)\n",
    "- [The 80 Top SQL Interview Questions and Answers for Beginners & Intermediate Practitioners](https://www.datacamp.com/blog/top-sql-interview-questions-and-answers-for-beginners-and-intermediate-practitioners)"
   ]
  }
 ],
 "metadata": {
  "kernelspec": {
   "display_name": "Python 3.9.13 64-bit (microsoft store)",
   "language": "python",
   "name": "python3"
  },
  "language_info": {
   "codemirror_mode": {
    "name": "ipython",
    "version": 3
   },
   "file_extension": ".py",
   "mimetype": "text/x-python",
   "name": "python",
   "nbconvert_exporter": "python",
   "pygments_lexer": "ipython3",
   "version": "3.11.0"
  },
  "vscode": {
   "interpreter": {
    "hash": "5af58ead5434bcaec4ba320c097b4ab95f4d47b5cc097d838e053a401accc545"
   }
  }
 },
 "nbformat": 4,
 "nbformat_minor": 4
}
