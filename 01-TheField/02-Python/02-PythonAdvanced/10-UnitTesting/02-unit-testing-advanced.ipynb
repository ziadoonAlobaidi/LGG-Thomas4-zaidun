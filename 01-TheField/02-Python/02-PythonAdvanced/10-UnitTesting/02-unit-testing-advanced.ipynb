{
 "cells": [
  {
   "cell_type": "markdown",
   "metadata": {},
   "source": [
    "# Advanced features\n",
    "As you can see, it can become really complicated to test when your functions become more and more complicated.\n",
    "There are two solution to this:\n",
    "1. Maybe the problem is that our code is too complicated. Maybe we need to create smaller functions instead of having few big functions.\n",
    "2. Use an advanced feature.\n",
    "\n",
    "We saw the basis of unit testing. But there is more. Maybe we want to test more complicated things like:\n",
    "* Testing a function that needs a connection to a database without connecting to this database.\n",
    "* Testing a function that drops a table in a database without dropping it.\n",
    "* Testing the connection to a database.\n",
    "* Testing a function that should access cloud services like Azure, Amazon, Google Cloud,...\n",
    "* Testing a complex function.\n",
    "* and so on...\n",
    "\n",
    "To do so, we will be limited with the `unittest` module.\n",
    "\n",
    "[pytest](https://docs.pytest.org/en/latest/) is a good solution. It allows us to do all those actions.\n",
    "\n",
    "[Mock objects](https://medium.com/ryans-dev-notes/python-mock-and-magicmock-b3295c2cc7eb) are also super handy to fake actions like connecting to database or any services.\n",
    "This also avoids the execution of heavy and long code when we only need to test a small thing.\n",
    "\n",
    "\n",
    "## What if people I work with don't care?\n",
    "\n",
    "There are a lot of possibilities if we want to enforce the usage of your unit tests.\n",
    "\n",
    "1. **Pre-commit hooks** We enforce the usage of pre-commit hooks and add a hook that verifies that all our unit tests pass before allowing to push/merge.\n",
    "2. **Bitbucket/GitLab/GitHub/...** Most of the modern code hubs give you the possibility to create pipelines that can run your unit tests.\n",
    "3. **CI/CD** There are a lot of external services that allow us to run your tests before deploying and do not deploy if a test fail. Some of them: [Circle CI](https://circleci.com/), [jenkins](https://www.jenkins.io/doc/), [Azure pipeline](https://azure.microsoft.com/en-us/services/devops/pipelines/), and many more.\n",
    "\n",
    "## Conclusion\n",
    "\n",
    "In conclusion, unit testing will save you a lot of time when you will need to refactor your code or add features to it. It will also spot your mistakes and show you where the issue is if you write them well.\n",
    "\n",
    "![dummy friends](https://media.giphy.com/media/5xrkJe3IJKSze/giphy.gif)"
   ]
  }
 ],
 "metadata": {
  "kernelspec": {
   "display_name": "Python 3",
   "language": "python",
   "name": "python3"
  },
  "language_info": {
   "codemirror_mode": {
    "name": "ipython"
   },
   "file_extension": ".py",
   "mimetype": "text/x-python",
   "name": "python",
   "nbconvert_exporter": "python"
  }
 },
 "nbformat": 4,
 "nbformat_minor": 2
}
