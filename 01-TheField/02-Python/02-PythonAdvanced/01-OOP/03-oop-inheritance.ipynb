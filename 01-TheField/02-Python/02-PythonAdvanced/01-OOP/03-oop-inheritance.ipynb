{
 "cells": [
  {
   "cell_type": "markdown",
   "metadata": {},
   "source": [
    "# Inheritance\n",
    "\n",
    "### Building a class from an already known one\n",
    "\n",
    "Inheritance is an object feature that allows you to declare that a particular class, usually referred to as the **child (or sub) class** will itself be modeled after another class, called the **parent (or super) class**. \n",
    "\n",
    "For example, suppose we have a child class `Circle` that inherits from a parent class `Shape`. \n",
    "\n",
    "In concrete terms, if a class `Circle` inherits from class `Shape`, objects created from the model of class `Circle` will have access to the methods and attributes of class `Shape`.\n",
    "\n",
    "![inheritance_example](https://www.informit.com/content/images/excch7_Weisfeld_9780321861276/elementLinks/711.jpg)\n",
    "\n",
    "\n",
    "Class `Circle` does not only use the methods and attributes of class `Shape`: it will also be able to define its own methods. Other methods and attributes that will be specific to it, in addition to the methods and attributes of class `Shape`, e.g. `radius`. And it will also be able to redefine the methods of the mother class. Let's see another example. "
   ]
  },
  {
   "cell_type": "markdown",
   "metadata": {},
   "source": [
    "### Super() function\n",
    "\n",
    "Python's `super()` function allows us to refer the superclass implicitly. So, Python's `super()` function makes our task easier and comfortable. While referring to the superclass from the subclass, we don’t need to write the name of the superclass explicitly. In the following sections, we will discuss this function.\n",
    "\n",
    "## Example \n",
    "\n",
    "Let's create a new class `Dog` that inherits from the `Animal` class. One way would be to do so as follows:"
   ]
  },
  {
   "cell_type": "code",
   "execution_count": null,
   "metadata": {},
   "outputs": [],
   "source": [
    "# Parent Class\n",
    "class Animal:\n",
    "    def __init__(self, name, age):\n",
    "        self.name = name\n",
    "        self.age = age\n",
    "\n",
    "    def speak(self):\n",
    "        print(f\"I am {self.name} and I am {self.age} years old.\")\n",
    "\n",
    "\n",
    "# Child class\n",
    "class Dog(Animal):\n",
    "    def __init__(self, name, age):\n",
    "\n",
    "        self.name = name\n",
    "        self.age = age\n",
    "        self.type = \"dog\"\n",
    "\n",
    "\n",
    "# Call child class\n",
    "t = Dog(\"Snoopy\", 5)\n",
    "t.speak()"
   ]
  },
  {
   "cell_type": "markdown",
   "metadata": {},
   "source": [
    "But because the `Animal` and `Dog`'s  `.__init__()` methods are so similar, we can simply call the superclass’s `.__init__()` method by using `super()`."
   ]
  },
  {
   "cell_type": "code",
   "execution_count": null,
   "metadata": {},
   "outputs": [],
   "source": [
    "# Parent Class\n",
    "class Animal:\n",
    "    def __init__(self, name, age):\n",
    "        self.name = name\n",
    "        self.age = age\n",
    "\n",
    "    def speak(self):\n",
    "        print(f\"I am {self.name} and I am {self.age} years old.\")\n",
    "\n",
    "\n",
    "# Child class\n",
    "class Dog(Animal):\n",
    "    def __init__(self, name, age):\n",
    "        super().__init__(name, age)\n",
    "        self.type = \"dog\"\n",
    "\n",
    "\n",
    "# Call child class\n",
    "t = Dog(\"Snoopy\", 5)\n",
    "t.speak()"
   ]
  },
  {
   "cell_type": "markdown",
   "metadata": {},
   "source": [
    "Eventhough, the class `Dog` doesn't have the method `speak()` directly stated, it inherits the method from its parent class `Animal` and can also use it!\n",
    "\n",
    "## Example \n",
    "\n",
    "A secret agent is a person with a specificity. We can therefore create a `SpecialAgent` class that inherits from the `Person` class."
   ]
  },
  {
   "cell_type": "code",
   "execution_count": null,
   "metadata": {},
   "outputs": [],
   "source": [
    "class Person:\n",
    "    \"\"\"Class representing one person\"\"\"\n",
    "\n",
    "    def __init__(self, lastname, firstname):\n",
    "        \"\"\"Constructor our class\"\"\"\n",
    "        self.lastname = lastname\n",
    "        self.firstname = firstname\n",
    "\n",
    "    def __str__(self):\n",
    "        \"\"\"Method called during a conversion of the object into a chain\"\"\"\n",
    "        return f\"{self.firstname} {self.lastname}\"\n",
    "\n",
    "\n",
    "class SpecialAgent(Person):  # <--- Inherits from Person\n",
    "    \"\"\"\n",
    "    A class that defines a special agent.\n",
    "\n",
    "    It inherits from the class Person.\n",
    "    \"\"\"\n",
    "\n",
    "    def __init__(self, lastname, firstname, id_number):\n",
    "        \"\"\"An agent is defined by his name and personnel number\"\"\"\n",
    "        # We explicitly call the Person constructor:\n",
    "        super().__init__(lastname, firstname)\n",
    "        # We also intialize a new attribute called id_number\n",
    "        self.id_number = id_number\n",
    "\n",
    "    def __str__(self):\n",
    "        \"\"\"Method called during a conversion of the object into a chain\"\"\"\n",
    "        return f\"Agent {self.lastname}. {self.firstname} {self.lastname}, ID {self.id_number}\""
   ]
  },
  {
   "cell_type": "code",
   "execution_count": null,
   "metadata": {},
   "outputs": [],
   "source": [
    "agent_007 = SpecialAgent(\"Do\", \"Lu\", \"007\")\n",
    "print(agent_007)"
   ]
  },
  {
   "cell_type": "markdown",
   "metadata": {},
   "source": [
    "- Inheritance allows one class to inherit another's behaviour by using its methods.\n",
    "\n",
    "- The syntax of the inheritance is `class NewClass(ParentClass):`.\n",
    "\n",
    "- The methods of the parent class can be accessed directly via the syntax: `ParentClass.method(self)`.\n",
    "\n",
    "- Multiple inheritance allows a class to inherit several parent classes.\n",
    "\n",
    "- The syntax of the multiple inheritance is therefore written as follows: `NewClass class (ParentClass1, ParentClass2, ParentClassN):`."
   ]
  },
  {
   "cell_type": "markdown",
   "metadata": {},
   "source": [
    "### Python super function with multilevel inheritance  \n",
    "As we have stated previously, the `super()` function allows us to refer to the superclass implicitly.\n",
    "\n",
    "But in the case of multi-level inheritances which class will it refer to? Well, `super()` will always refer to the immediate superclass.\n",
    "\n",
    "Also, the `super()` function can not only refer to the `__init__()` function but also can call all other functions of the superclass.\n",
    "\n",
    "## Example:\n",
    "Suppose we have three classes `A, B, C`, with the following structure:\n",
    "* `A` is the superclass\n",
    "* `B` inherits from class `A`\n",
    "* `C` inherits from class `B`\n",
    "\n",
    "Each of these classes has a `sub_method()` method defined.  If we run the following code:\n",
    "```\n",
    "if __name__ == \"__main__\":\n",
    "    c = C()\n",
    "    c.sub_method(1)\n",
    "```\n",
    "\n",
    "\n",
    "What should be the expected ouput? Once you've made your guess, excute the cell below!"
   ]
  },
  {
   "cell_type": "code",
   "execution_count": null,
   "metadata": {},
   "outputs": [],
   "source": [
    "class A:\n",
    "    def __init__(self):\n",
    "        print(\"Initializing: class A\")\n",
    "\n",
    "    def sub_method(self, b):\n",
    "        print(\"Printing from class A:\", b)\n",
    "\n",
    "\n",
    "class B(A):  # <-- Inherits from A\n",
    "    def __init__(self):\n",
    "        print(\"Initializing: class B\")\n",
    "        super().__init__()\n",
    "\n",
    "    def sub_method(self, b):\n",
    "        print(\"Printing from class B:\", b)\n",
    "        super().sub_method(b + 1)\n",
    "\n",
    "\n",
    "class C(B):  # <-- Inherits from B\n",
    "    def __init__(self):\n",
    "        print(\"Initializing: class C\")\n",
    "        super().__init__()\n",
    "\n",
    "    def sub_method(self, b):\n",
    "        print(\"Printing from class C:\", b)\n",
    "        super().sub_method(b + 1)\n",
    "\n",
    "\n",
    "if __name__ == \"__main__\":\n",
    "    c = C()\n",
    "    c.sub_method(1)"
   ]
  },
  {
   "cell_type": "markdown",
   "metadata": {},
   "source": [
    "So, from the output we can clearly see that the `__init__()` function of class `C` had been called at first, then class `B` and after that class `A`. Similar thing happened by calling `sub_method()`."
   ]
  },
  {
   "cell_type": "markdown",
   "metadata": {},
   "source": [
    "### Why do we need Python's ``super()`` function?\n",
    "\n",
    "In the case of single inheritance with a parent and child class, the super function is used to implicitly refer to the parent class without naming it explicitly. This makes the code more efficient, maintainable and robust in nature.\n",
    "\n",
    "For a multi-level inheritance, the super method can be used to refer to the immediate superclass implicitly. This again makes the code easier to understand and highly maintainable."
   ]
  },
  {
   "cell_type": "markdown",
   "metadata": {},
   "source": [
    "### Overriding method\n",
    "\n",
    "Overriding is the ability of a class to change the implementation of a method provided by one of its parents.\n",
    "\n",
    "Overriding is a very important part of OOP since it is the feature that makes inheritance exploit its full power. Through method overriding a class may \"copy\" another class, avoiding duplicated code, and at the same time enhance or customize part of it. Method overriding is thus a strict part of the inheritance mechanism.\n",
    "\n",
    "## Example: \n",
    "Let's overwrite the ``speak()`` method in the `Dog` class. "
   ]
  },
  {
   "cell_type": "code",
   "execution_count": null,
   "metadata": {},
   "outputs": [],
   "source": [
    "# Parent Class\n",
    "class Animal:\n",
    "    def __init__(self, name, age):\n",
    "        self.name = name\n",
    "        self.age = age\n",
    "\n",
    "    def speak(self):\n",
    "        print(f\"I am {self.name} and I am {self.age} years old.\")\n",
    "\n",
    "\n",
    "# Child class\n",
    "class Dog(Animal):\n",
    "    def __init__(self, name, age):\n",
    "        super().__init__(name, age)\n",
    "\n",
    "    # This will override the speak() method of the parent class:\n",
    "    def speak(self):\n",
    "        print(\"I am a dog.\")\n",
    "\n",
    "\n",
    "# Call child class\n",
    "t = Dog(\"tyson\", 5)\n",
    "t.speak()"
   ]
  },
  {
   "cell_type": "markdown",
   "metadata": {},
   "source": [
    "We see that the output comes from the `speak()` method defined in the `Dog` class rather than the `Animal` class."
   ]
  },
  {
   "cell_type": "markdown",
   "metadata": {},
   "source": [
    "## Practice time!\n",
    "\n",
    "Great, let's practice a bit. Below, we have defined the class `Becodian` that contains 2 attributes: `name` and `is_staff_member`. Moreover, we defined `introduce_becodian()` that returns information about the Becodian.\n",
    "\n",
    "We would like to create a class `Learner` that inherits from `Becodian`. But we would also like to add:\n",
    "\n",
    "* An attribute `promotion` with the name of the learner's promotion. A promotion is the name given to the whole class, e.g. `Turing`, `Bouman`, `Arai`, etc... As we want to define multiple learners, it should be in the class' **constructor**. But we still need `name` and `is_staff_member` in the constructor too. \n",
    "* Since the learners are not staff member, `is_staff_member` should always be `False` and shouldn't be specified each time we create and instance of `Learner`. A perfect use-case for `super`!\n",
    "\n",
    "* Create an `introduce_learner()` method that takes the output of `introduce_becodian()` and add `From CAMPUS_NAME_HERE`. You can't touch the `introduce_becodian` function."
   ]
  },
  {
   "cell_type": "code",
   "execution_count": null,
   "metadata": {},
   "outputs": [],
   "source": [
    "class Becodian:\n",
    "    \"\"\"\n",
    "    Class that defines a person who is part of Becode.\n",
    "    \"\"\"\n",
    "\n",
    "    def __init__(self, name, is_staff_member):\n",
    "        self.name = name\n",
    "        self.is_staff_member = is_staff_member\n",
    "\n",
    "    def introduce_becodian(self):\n",
    "        if self.is_staff_member:\n",
    "            return f\"{self.name} is a staff member!\"\n",
    "        else:\n",
    "            return f\"{self.name} is a learner!\"\n",
    "\n",
    "\n",
    "# We create a new Becodian called 'ludo' who is a staff member.\n",
    "ludo = Becodian(\"ludo\", True)\n",
    "\n",
    "# We print the ouput of introduce_becodian for ludo\n",
    "print(ludo.introduce_becodian())"
   ]
  },
  {
   "cell_type": "code",
   "execution_count": null,
   "metadata": {},
   "outputs": [],
   "source": [
    "# Create you Learner class here!"
   ]
  },
  {
   "cell_type": "code",
   "execution_count": null,
   "metadata": {},
   "outputs": [],
   "source": [
    "# This cell should print \"Jeremy is a learner! From Bouman 1\"\n",
    "jeremy = Learner(\"Jeremy\", \"Bouman 1\")\n",
    "\n",
    "print(jeremy.introduce_learner())"
   ]
  },
  {
   "cell_type": "code",
   "execution_count": null,
   "metadata": {},
   "outputs": [],
   "source": [
    "# This cell should print \"Giuliano is a learner! From Bouman 1\"\n",
    "giuliano = Learner(\"Giuliano\", \"Bouman 1\")\n",
    "\n",
    "print(giuliano.introduce_learner())"
   ]
  },
  {
   "cell_type": "code",
   "execution_count": null,
   "metadata": {},
   "outputs": [],
   "source": [
    "# This cell should print \"Mathieu is a learner! From Bouman 1\"\n",
    "mathieu = Learner(\"Mathieu\", \"Bouman 1\")\n",
    "\n",
    "print(mathieu.introduce_learner())"
   ]
  },
  {
   "cell_type": "code",
   "execution_count": null,
   "metadata": {},
   "outputs": [],
   "source": [
    "# This cell should print \"Geoffrey is a learner! From Bouman 1\"\n",
    "geoffrey = Learner(\"Geoffrey\", \"Bouman 1\")\n",
    "\n",
    "print(geoffrey.introduce_learner())"
   ]
  },
  {
   "cell_type": "code",
   "execution_count": null,
   "metadata": {},
   "outputs": [],
   "source": [
    "# This cell should print \"Mathieu is a learner! From Woods 1\"\n",
    "adrien = Learner(\"Adrien\", \"Woods 1\")\n",
    "\n",
    "print(adrien.introduce_learner())"
   ]
  }
 ],
 "metadata": {
  "kernelspec": {
   "display_name": "Python 3.9.13 64-bit (windows store)",
   "language": "python",
   "name": "python3"
  },
  "language_info": {
   "codemirror_mode": {
    "name": "ipython",
    "version": 3
   },
   "file_extension": ".py",
   "mimetype": "text/x-python",
   "name": "python",
   "nbconvert_exporter": "python",
   "pygments_lexer": "ipython3",
   "version": "3.9.13"
  },
  "vscode": {
   "interpreter": {
    "hash": "5af58ead5434bcaec4ba320c097b4ab95f4d47b5cc097d838e053a401accc545"
   }
  }
 },
 "nbformat": 4,
 "nbformat_minor": 2
}
