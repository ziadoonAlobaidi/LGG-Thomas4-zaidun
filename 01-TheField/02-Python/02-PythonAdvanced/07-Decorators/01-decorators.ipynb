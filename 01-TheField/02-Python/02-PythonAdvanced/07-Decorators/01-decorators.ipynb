{
 "cells": [
  {
   "cell_type": "markdown",
   "metadata": {},
   "source": [
    "# Decorators \n",
    "\n",
    "You've probably already heard of **decorators**. This is a feature that is widely used in the Python world. They allow you to write concise, readable and non-repetitive code.\n",
    "\n",
    "Concretely, a decorator is a callable that takes another callable as an argument and returns a copy of the same callable by \"decorating\" it, i.e. pre-processing and/or post-processing it. In the jargon, this is often referred to as wrapping (wrapping, sprinkling, adding something extra, decorating)."
   ]
  },
  {
   "cell_type": "code",
   "execution_count": null,
   "metadata": {},
   "outputs": [],
   "source": [
    "def my_decorator(my_function):\n",
    "    print(my_function.__name__)\n",
    "    return my_function"
   ]
  },
  {
   "cell_type": "markdown",
   "metadata": {},
   "source": [
    "To apply a decorator, we precede the definition line of the function to be decorated with a line containing an `@` character, then the name of the decorator to be applied, for example :"
   ]
  },
  {
   "cell_type": "code",
   "execution_count": null,
   "metadata": {},
   "outputs": [],
   "source": [
    "@my_decorator\n",
    "def addition(a, b):\n",
    "    return a + b"
   ]
  },
  {
   "cell_type": "code",
   "execution_count": null,
   "metadata": {},
   "outputs": [],
   "source": [
    "addition(5, 6)"
   ]
  },
  {
   "cell_type": "markdown",
   "metadata": {},
   "source": [
    "It is therefore clear that the decorator is applied when the function is defined, and not when it is called. Here we use a very simple decorator that returns the same function that it got as argument (`my_function`), but it could very well be that it returns another one, which would for example be created on the fly.\n",
    "\n",
    "This has the effect of replacing `addition` by the return of the decorator function called with `addition` as argument, which is strictly equivalent to the following.\n",
    "\n"
   ]
  },
  {
   "cell_type": "code",
   "execution_count": null,
   "metadata": {},
   "outputs": [],
   "source": [
    "def addition(a, b):\n",
    "    return a + b\n",
    "\n",
    "\n",
    "addition = my_decorator(addition)"
   ]
  },
  {
   "cell_type": "markdown",
   "metadata": {},
   "source": [
    "Let's say we would like to change our `addition` function to display the operands and then the result, without touching the body of our function. We can make a decorator that will return a new function that will display the arguments, call our original function, then display the return and return it (to keep the original behavior).\n",
    "\n",
    "Thus, our decorator becomes :"
   ]
  },
  {
   "cell_type": "code",
   "execution_count": null,
   "metadata": {},
   "outputs": [],
   "source": [
    "def print_decorator(function):\n",
    "    def new_function(a, b):  # New function behaving as the `function` to be decorated\n",
    "        print(f\"Addition of numbers {a} and {b}\")\n",
    "        return_value = function(a, b)  # Call to `function`\n",
    "        print(f\"Result: {return_value}\")\n",
    "        return return_value\n",
    "\n",
    "    return new_function  # don't forget to return `new_function`"
   ]
  },
  {
   "cell_type": "markdown",
   "metadata": {},
   "source": [
    "If we now apply this decorator to our addition function:"
   ]
  },
  {
   "cell_type": "code",
   "execution_count": null,
   "metadata": {},
   "outputs": [],
   "source": [
    "@print_decorator\n",
    "def addition(a, b):\n",
    "    return a + b"
   ]
  },
  {
   "cell_type": "code",
   "execution_count": null,
   "metadata": {},
   "outputs": [],
   "source": [
    "addition(1, 2)"
   ]
  },
  {
   "cell_type": "markdown",
   "metadata": {},
   "source": [
    "But our decorator is very specialized here, it only works with functions taking two parameters, and will display `\"Addition\"` in all cases. We can modify it to make it more generic (remember `*args` and `**kwargs`)."
   ]
  },
  {
   "cell_type": "code",
   "execution_count": null,
   "metadata": {},
   "outputs": [],
   "source": [
    "def print_decorator(function):\n",
    "    def new_function(*args, **kwargs):\n",
    "        print(f\"call {function.__name__} with args={args} and kwargs={kwargs}\")\n",
    "        return_value = function(*args, **kwargs)\n",
    "        print(f\"Result: {return_value}\")\n",
    "        return return_value\n",
    "\n",
    "    return new_function"
   ]
  },
  {
   "cell_type": "markdown",
   "metadata": {},
   "source": [
    "I'll let you try it out on different functions to see how generic it is.\n",
    "\n",
    "Function definitions are not limited to one decorator: you can specify as many as you want, by placing them one after the other.\n",
    "\n"
   ]
  },
  {
   "cell_type": "code",
   "execution_count": null,
   "metadata": {},
   "outputs": [],
   "source": [
    "@my_decorator\n",
    "@print_decorator\n",
    "def useless():\n",
    "    pass"
   ]
  },
  {
   "cell_type": "markdown",
   "metadata": {},
   "source": [
    "The order in which they are specified is important, the previous code is equivalent to :"
   ]
  },
  {
   "cell_type": "code",
   "execution_count": null,
   "metadata": {},
   "outputs": [],
   "source": [
    "def useless():\n",
    "    pass\n",
    "\n",
    "\n",
    "useless = my_decorator(print_decorator(useless))"
   ]
  },
  {
   "cell_type": "markdown",
   "metadata": {},
   "source": [
    "So we can see that the decorators specified first are those that will be applied last.\n",
    "\n",
    "I said earlier that the decorators apply to functions. This is also true for functions defined within classes (i.e. methods). But you should also know that decorators extend to class declarations."
   ]
  },
  {
   "cell_type": "code",
   "execution_count": null,
   "metadata": {},
   "outputs": [],
   "source": [
    "@print_decorator\n",
    "class MyClass:\n",
    "    @my_decorator\n",
    "    def method(self):\n",
    "        pass"
   ]
  },
  {
   "cell_type": "markdown",
   "metadata": {},
   "source": [
    "Although the definition is broader than that. The decorator is a callable taking a callable as a parameter, and can return any type of object.\n",
    "\n",
    "We have seen how to apply a decorator to a function, however we may want to parameterize the behavior of this decorator. In our previous example (`print_decorator`), we display text before and after the function call. But what do we do if we want to change this text (to change the language, or use a term other than \"function\")?\n",
    "\n",
    "We don't want to have to create a different decorator for every possible and imaginable sentence. We'd like to be able to pass our strings to our decorator so that it can display them at the right time.\n",
    "\n",
    "In fact, `@` doesn't have to be followed by an object name, arguments can also be added to it using parentheses (as we would do for a call). But the behavior may seem strange to you at first glance.\n",
    "\n",
    "For example, to use such a parameterized decorator :"
   ]
  },
  {
   "cell_type": "code",
   "execution_count": null,
   "metadata": {},
   "outputs": [],
   "source": [
    "@param_print_decorator(\"call {} with args({}) and kwargs({})\", \"Return value = {}\")\n",
    "def test_func(x):\n",
    "    return x"
   ]
  },
  {
   "cell_type": "markdown",
   "metadata": {},
   "source": [
    "We will need to have a callable `param_print_decorator` which, when called, will return a decorator that can then be applied to our function. **So a parametrized decorator is just a callable that returns a simple decorator.**\n",
    "\n",
    "The `param_print_decorator` code would thus look like :"
   ]
  },
  {
   "cell_type": "code",
   "execution_count": null,
   "metadata": {},
   "outputs": [],
   "source": [
    "def param_print_decorator(string_before_execution, string_after_execution):\n",
    "    def simple_decorator(function):\n",
    "        def new_function(*args, **kwargs):\n",
    "            print(string_before_execution.format(function.__name__, args, kwargs))\n",
    "            return_value = function(*args, **kwargs)\n",
    "            print(string_after_execution.format(return_value))\n",
    "            return return_value\n",
    "\n",
    "        return new_function\n",
    "\n",
    "    return simple_decorator"
   ]
  },
  {
   "cell_type": "markdown",
   "metadata": {},
   "source": [
    "A function is not just a piece of code with parameters. It also has a name, names of the parameters, documentation (docstring), annotations, etc. When we decorate a function, and where we return a new one function like in the previous example, we lose all this related information.\n",
    "\n",
    "Here is an example to illustrate this:"
   ]
  },
  {
   "cell_type": "code",
   "execution_count": null,
   "metadata": {},
   "outputs": [],
   "source": [
    "def my_decorator(function):\n",
    "    def decorated(*args, **kwargs):\n",
    "        return function(*args, **kwargs)\n",
    "\n",
    "    return decorated\n",
    "\n",
    "\n",
    "@my_decorator\n",
    "def addition(a, b):\n",
    "    \"This function makes an addition.\"\n",
    "    return a + b\n",
    "\n",
    "\n",
    "help(addition)"
   ]
  },
  {
   "cell_type": "markdown",
   "metadata": {},
   "source": [
    "For more information of decorators, please read https://realpython.com/primer-on-python-decorators/"
   ]
  }
 ],
 "metadata": {
  "kernelspec": {
   "display_name": "Python 3",
   "language": "python",
   "name": "python3"
  },
  "language_info": {
   "codemirror_mode": {
    "name": "ipython"
   },
   "file_extension": ".py",
   "mimetype": "text/x-python",
   "name": "python",
   "nbconvert_exporter": "python"
  }
 },
 "nbformat": 4,
 "nbformat_minor": 2
}
