{
 "cells": [
  {
   "cell_type": "markdown",
   "metadata": {},
   "source": [
    "# Collections cheat sheet\n",
    "\n",
    "This notebook is about what you should *absolutely know* about the basic collections in order to be an efficient Python programmer.\n",
    "\n",
    "| Collection  \t| Ordered \t| Mutable \t| Indexed \t| Keyed \t| Content constraint   \t| Search (in) \t| Sort            \t| Memory usage \t| Uses                           \t|\n",
    "|-------------\t|---------\t|---------\t|---------\t|-------\t|----------------------\t|-------------\t|-----------------\t|--------------\t|--------------------------------\t|\n",
    "| List        \t| yes     \t| yes     \t| yes     \t| no    \t| none                 \t| slow, O(n)   \t| slow, O(n log n) \t| small       \t| sequence, sort                 \t|\n",
    "| Tuple       \t| yes     \t| no      \t| yes     \t| no    \t| none                 \t| slow, O(n)   \t| N/A             \t| small       \t| integrity                      \t|\n",
    "| Set         \t| no      \t| yes     \t| no      \t| no    \t| hashable, unique     \t| fast, constant O(1)   \t| N/A             \t| big       \t| search, unique, set operations \t|\n",
    "| Dictionnary \t| no      \t| yes     \t| no      \t| yes   \t| key hashable, unique \t| fast, constant O(1)   \t| N/A             \t| big      \t| search, lookup                 \t|"
   ]
  },
  {
   "cell_type": "markdown",
   "metadata": {},
   "source": [
    "## Lists vs sets\n",
    "\n",
    "In general, if your collection does not need to be ordered, a set is a good candidate. If the list is really small, the memory savings can balance the search inefficiency."
   ]
  },
  {
   "cell_type": "code",
   "execution_count": 84,
   "metadata": {},
   "outputs": [
    {
     "name": "stdout",
     "output_type": "stream",
     "text": [
      "[10 elements] The set takes 5.4 times as much space as the same size list.\n",
      "[10 elements] Search best case: the set is 0.9 times faster than the list. 14 µs vs 13 µs\n",
      "[10 elements] Search average case: the set is 3.4 times faster than the list. 14 µs vs 48 µs\n",
      "[10 elements] Search worst case: the set is 6.2 times faster than the list. 14 µs vs 86 µs\n",
      "\n",
      "[1000 elements] The set takes 4.1 times as much space as the same size list.\n",
      "[1000 elements] Search best case: the set is 1.0 times faster than the list. 14 µs vs 14 µs\n",
      "[1000 elements] Search average case: the set is 289.7 times faster than the list. 14 µs vs 4117 µs\n",
      "[1000 elements] Search worst case: the set is 169.9 times faster than the list. 41 µs vs 6951 µs\n",
      "\n",
      "[1000000 elements] The set takes 4.2 times as much space as the same size list.\n",
      "[1000000 elements] Search best case: the set is 1.0 times faster than the list. 14 µs vs 15 µs\n",
      "[1000000 elements] Search average case: the set is 218146.3 times faster than the list. 16 µs vs 3426642 µs\n",
      "[1000000 elements] Search worst case: the set is 512756.3 times faster than the list. 13 µs vs 6815556 µs\n",
      "\n"
     ]
    }
   ],
   "source": [
    "import sys\n",
    "import timeit\n",
    "\n",
    "for i in (10, 1000, 1000000):\n",
    "    l = list(range(i))\n",
    "    s = set(range(i))\n",
    "\n",
    "    ratio_meme_s_to_l = round(sys.getsizeof(s) / sys.getsizeof(l), 1)\n",
    "    print(f\"[{i} elements] The set takes {ratio_meme_s_to_l} times as much space as the same size list.\")\n",
    "\n",
    "    elements = { 0: \"best\", i // 2: \"average\", i: \"worst\"}\n",
    "\n",
    "    for element, description in elements.items():\n",
    "        time_l = timeit.timeit(f\"{element} in l\", setup=f\"l = {l}\", number=1000)\n",
    "        time_s = timeit.timeit(f\"{element} in s\", setup=f\"s = {s}\", number=1000)\n",
    "        print(f\"[{i} elements] Search {description} case: the set is {round(time_l / time_s, 1)} times faster than the list. {round(1000000 * time_s)} µs vs {round(1000000 * time_l)} µs\")\n",
    "    print()"
   ]
  }
 ],
 "metadata": {
  "kernelspec": {
   "display_name": "Python 3.9.10 ('base')",
   "language": "python",
   "name": "python3"
  },
  "language_info": {
   "codemirror_mode": {
    "name": "ipython",
    "version": 3
   },
   "file_extension": ".py",
   "mimetype": "text/x-python",
   "name": "python",
   "nbconvert_exporter": "python",
   "pygments_lexer": "ipython3",
   "version": "3.9.10"
  },
  "orig_nbformat": 4,
  "vscode": {
   "interpreter": {
    "hash": "c6e4e9f98eb68ad3b7c296f83d20e6de614cb42e90992a65aa266555a3137d0d"
   }
  }
 },
 "nbformat": 4,
 "nbformat_minor": 2
}
