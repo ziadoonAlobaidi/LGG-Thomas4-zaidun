{
 "cells": [
  {
   "cell_type": "markdown",
   "metadata": {},
   "source": [
    "# Data structures"
   ]
  },
  {
   "cell_type": "markdown",
   "metadata": {},
   "source": [
    "The data structure is the way we store and structure our data. It's really important because it will define how your functions and machine learning systems will be able to access your data. It can be a simple one-liner when you need to test something or it can be a real mess with 10 functions just to format you data and feed you model the correct way."
   ]
  },
  {
   "cell_type": "markdown",
   "metadata": {},
   "source": [
    "## The problem"
   ]
  },
  {
   "cell_type": "markdown",
   "metadata": {},
   "source": [
    "Let's say we have a great model that recognizes faces from an image. You want to store that in a structured way so we can plot our results, store them in a database, create a script that shows us all the faces detected to see if the model is accurate, etc..."
   ]
  },
  {
   "cell_type": "markdown",
   "metadata": {},
   "source": [
    "## Solutions"
   ]
  },
  {
   "cell_type": "code",
   "execution_count": null,
   "metadata": {},
   "outputs": [],
   "source": [
    "from typing import List, Dict, Optional"
   ]
  },
  {
   "cell_type": "markdown",
   "metadata": {},
   "source": [
    "### Dictionary"
   ]
  },
  {
   "cell_type": "markdown",
   "metadata": {},
   "source": [
    "The first idea that you could have is to create a dictionary with the data in it:"
   ]
  },
  {
   "cell_type": "code",
   "execution_count": null,
   "metadata": {},
   "outputs": [],
   "source": [
    "# A dictionnary to store your data\n",
    "my_image: dict = {\n",
    "    \"name\": \"image 1\",\n",
    "    \"height\": 800,\n",
    "    \"width\": 300,\n",
    "    \"resolution\": 800 * 300,\n",
    "    \"face_detected\": [\n",
    "        {\"x0\": 10, \"x1\": 60, \"y0\": 200, \"y1\": 250},\n",
    "        {\"x0\": 10, \"x1\": 60, \"y0\": 300, \"y1\": 350},\n",
    "    ],\n",
    "    \"confidence_score\": 1.0,\n",
    "}\n",
    "\n",
    "my_image[\"resolution\"]"
   ]
  },
  {
   "cell_type": "markdown",
   "metadata": {},
   "source": [
    "It workd but you can't type each property (at least not easily), you will need to create a different dictionary each time, you can make typos in the keys, and many more difficulties. It's not a good data structure if you're going to use it often."
   ]
  },
  {
   "cell_type": "markdown",
   "metadata": {},
   "source": [
    "### Class"
   ]
  },
  {
   "cell_type": "markdown",
   "metadata": {},
   "source": [
    "That's when you will think about a class! You create a class that contains your data fields, then you just have to instantiate it.\n",
    "You can even type each property! It looks like the perfect fit your issue."
   ]
  },
  {
   "cell_type": "code",
   "execution_count": null,
   "metadata": {},
   "outputs": [],
   "source": [
    "class Image:\n",
    "    \"\"\"Class that stores the image data.\"\"\"\n",
    "\n",
    "    def __init__(\n",
    "        self,\n",
    "        name: str,\n",
    "        height: int,\n",
    "        width: int,\n",
    "        score: int,\n",
    "        face_detected: List[Dict[str, int]],\n",
    "    ):\n",
    "\n",
    "        self.name = name\n",
    "        self.height = height\n",
    "        self.width = width\n",
    "        self.score = score\n",
    "        self.face_detected = face_detected\n",
    "        self.resolution = self.height * self.width\n",
    "\n",
    "\n",
    "faces = [\n",
    "    {\"x0\": 10, \"x1\": 60, \"y0\": 200, \"y1\": 250},\n",
    "    {\"x0\": 10, \"x1\": 60, \"y0\": 300, \"y1\": 350},\n",
    "]\n",
    "# Instanciate an Image\n",
    "my_image = Image(name=\"image 1\", height=800, width=300, score=10, face_detected=faces)\n",
    "\n",
    "my_image.resolution"
   ]
  },
  {
   "cell_type": "markdown",
   "metadata": {},
   "source": [
    "On one hand, the syntax isn't great, it's heavy, it's big and imagine that you have to define a lot of them to store different kinds of data, you will have a file that contains thousands of lines.\n",
    "ON the other hand, you can keep control of your data, define that if an `Image` is instantiated without a `height`, it will raise an error.\n",
    "\n",
    "Classes have another great feature, you can create attributes made of other attributes."
   ]
  },
  {
   "cell_type": "markdown",
   "metadata": {},
   "source": [
    "### Dataclass"
   ]
  },
  {
   "cell_type": "markdown",
   "metadata": {},
   "source": [
    "Fortunately, Python has an answer to this heavy syntax and it's called `dataclass`. Dataclass is a decorator that you provide to a class. It allows you to create class with a super simple and short syntax."
   ]
  },
  {
   "cell_type": "code",
   "execution_count": null,
   "metadata": {},
   "outputs": [],
   "source": [
    "from dataclasses import dataclass\n",
    "\n",
    "\n",
    "@dataclass\n",
    "class Image:\n",
    "    \"\"\"Class that store the image's data.\"\"\"\n",
    "\n",
    "    name: str\n",
    "    height: int\n",
    "    width: int\n",
    "    score: int\n",
    "    face_detected: List[Dict[str, int]]\n",
    "    resolution: int\n",
    "\n",
    "\n",
    "faces = [\n",
    "    {\"x0\": 10, \"x1\": 60, \"y0\": 200, \"y1\": 250},\n",
    "    {\"x0\": 10, \"x1\": 60, \"y0\": 300, \"y1\": 350},\n",
    "]\n",
    "# Instanciate an Image\n",
    "my_image = Image(\n",
    "    name=\"image 1\",\n",
    "    height=800,\n",
    "    width=300,\n",
    "    score=10,\n",
    "    resolution=800 * 300,\n",
    "    face_detected=faces,\n",
    ")\n",
    "\n",
    "my_image.face_detected[0][\"x0\"]"
   ]
  },
  {
   "cell_type": "markdown",
   "metadata": {},
   "source": [
    "It could be a perfect fit if there is no relation between attributes. If we didn't use the resolution attribute there for example, it would be better to use a dataclass than a regular class."
   ]
  },
  {
   "cell_type": "markdown",
   "metadata": {},
   "source": [
    "### Named tuple"
   ]
  },
  {
   "cell_type": "markdown",
   "metadata": {},
   "source": [
    "The named tuple is clearly a bad fit here as it only allows us to create a tuple that has attributes and can be called like a class. However, it's a good structure to know because it's good at storing a small amount of data. It will be the perfect fit for our face's coordinate!"
   ]
  },
  {
   "cell_type": "code",
   "execution_count": null,
   "metadata": {},
   "outputs": [],
   "source": [
    "from collections import namedtuple\n",
    "\n",
    "Coordinate = namedtuple(\"Coordinate\", [\"x0\", \"x1\", \"y0\", \"y1\"])\n",
    "\n",
    "faces = [\n",
    "    Coordinate(10, 60, 200, 250),\n",
    "    Coordinate(10, 60, 300, 350),\n",
    "]\n",
    "\n",
    "faces[0].x0"
   ]
  },
  {
   "cell_type": "markdown",
   "metadata": {},
   "source": [
    "### Merge solutions"
   ]
  },
  {
   "cell_type": "markdown",
   "metadata": {},
   "source": [
    "We can of course merge multiple data types to fit our needs!\n",
    "\n",
    "For example, here my favorite candidate will be a class mixed with named named tuple."
   ]
  },
  {
   "cell_type": "code",
   "execution_count": null,
   "metadata": {},
   "outputs": [],
   "source": [
    "Coordinate = namedtuple(\"Coordinate\", [\"x0\", \"x1\", \"y0\", \"y1\"])\n",
    "\n",
    "\n",
    "class Image:\n",
    "    \"\"\"Class that store the image's data.\"\"\"\n",
    "\n",
    "    def __init__(\n",
    "        self,\n",
    "        name: str,\n",
    "        height: int,\n",
    "        width: int,\n",
    "        score: int,\n",
    "        face_detected: Optional[Coordinate],\n",
    "    ):\n",
    "\n",
    "        self.name = name\n",
    "        self.height = height\n",
    "        self.width = width\n",
    "        self.score = score\n",
    "        self.face_detected = face_detected\n",
    "        self.resulotion = self.height * self.width\n",
    "\n",
    "\n",
    "faces = [\n",
    "    Coordinate(10, 60, 200, 250),\n",
    "    Coordinate(10, 60, 300, 350),\n",
    "]\n",
    "\n",
    "my_image = Image(name=\"image 1\", height=800, width=300, score=10, face_detected=faces)\n",
    "\n",
    "my_image.face_detected[0].x0"
   ]
  },
  {
   "cell_type": "markdown",
   "metadata": {},
   "source": [
    "## Conclusion"
   ]
  },
  {
   "cell_type": "markdown",
   "metadata": {},
   "source": [
    "99% of the time, the best solution will be to mix multiple data structures to obtain something easy to read, to use and to store. Also, don't forget that the perfect solution doesn't exist! It's all a matter of choices!\n",
    "\n",
    "A good indicator that you need to use a different data structure is when you're adding type hints to your code and you realize that you get something like like this:\n",
    "\n",
    "```python\n",
    "data: Dict[str, List[Dict[str, Dict[str, Tuple[int]]]] = ...\n",
    "```"
   ]
  },
  {
   "cell_type": "markdown",
   "metadata": {},
   "source": [
    "## Additional resources"
   ]
  },
  {
   "cell_type": "markdown",
   "metadata": {},
   "source": [
    "Make sure to look into these resources:\n",
    "* https://docs.python.org/3/library/collections.html\n",
    "* https://docs.python.org/3/tutorial/datastructures.html\n",
    "* https://www.edureka.co/blog/data-structures-in-python/"
   ]
  }
 ],
 "metadata": {
  "kernelspec": {
   "display_name": "Python 3",
   "language": "python",
   "name": "python3"
  },
  "language_info": {
   "codemirror_mode": {
    "name": "ipython"
   },
   "file_extension": ".py",
   "mimetype": "text/x-python",
   "name": "python",
   "nbconvert_exporter": "python"
  }
 },
 "nbformat": 4,
 "nbformat_minor": 4
}
