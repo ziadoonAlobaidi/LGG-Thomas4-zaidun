{
 "cells": [
  {
   "cell_type": "markdown",
   "metadata": {
    "colab_type": "text",
    "id": "Y2WIldGAzeGi"
   },
   "source": [
    "# Regular expressions (regex) : love or hate?"
   ]
  },
  {
   "cell_type": "markdown",
   "metadata": {},
   "source": [
    "![commit strip](http://www.commitstrip.com/wp-content/uploads/2014/02/Strips-Le-dernier-des-vrais-codeurs-650-finalenglsih.jpg)"
   ]
  },
  {
   "cell_type": "markdown",
   "metadata": {
    "colab_type": "text",
    "id": "ncgjdsP6zeGk"
   },
   "source": [
    "Regular expressions are used in almost all languages. It is a very powerful tool to check if the content of a variable has the shape you expect. \n",
    "\n",
    "For example, if you retrieve a phone number, you expect the variable to be composed of numbers and spaces (or dashes) but nothing more. \n",
    "\n",
    "Regular expressions not only warn you of an unwanted character but also delete/modify all those that are not desirable.\n"
   ]
  },
  {
   "cell_type": "markdown",
   "metadata": {
    "colab_type": "text",
    "id": "J9tTw4kpzeGm"
   },
   "source": [
    "**There are two ways to use regular expressions:**\n",
    "* The first consists in calling the function with the pattern as the first parameter, and the string to be analyzed as the second parameter.\n",
    "* The second way is to compile the regex, and then use the methods of the created object to analyze a string passed as an argument. This method speeds up processing when a regex is used several times.  "
   ]
  },
  {
   "cell_type": "code",
   "execution_count": null,
   "metadata": {
    "colab": {},
    "colab_type": "code",
    "id": "uW-ELEWSzeGn"
   },
   "outputs": [],
   "source": [
    "import re"
   ]
  },
  {
   "cell_type": "code",
   "execution_count": null,
   "metadata": {
    "colab": {
     "base_uri": "https://localhost:8080/",
     "height": 202
    },
    "colab_type": "code",
    "executionInfo": {
     "elapsed": 1164,
     "status": "error",
     "timestamp": 1544433890947,
     "user": {
      "displayName": "jeanmichel matz",
      "photoUrl": "",
      "userId": "07185903058039212847"
     },
     "user_tz": -60
    },
    "id": "UZH4lcDtzeGr",
    "outputId": "56f57bbf-62d5-43a6-9a8c-e625eb5f51e1"
   },
   "outputs": [],
   "source": [
    "pattern = \"[ ]\"\n",
    "string = \"I am fine ! There are still 6 months left :()\"\n",
    "\n",
    "# Searches the pattern in the previous string and return a `MatchObject` if matches are found,\n",
    "# otherwise returns `None`.\n",
    "print(re.search(pattern, string))"
   ]
  },
  {
   "cell_type": "code",
   "execution_count": null,
   "metadata": {
    "colab": {},
    "colab_type": "code",
    "id": "8CHrRMMnzeGx",
    "outputId": "7985c200-12be-4488-f07d-e67cd582be82"
   },
   "outputs": [],
   "source": [
    "pattern = \"[ ]\"\n",
    "string = \"I am fine ! There are still 6 months left :()\"\n",
    "\n",
    "# Cuts the string according to the occurrence of the pattern.\n",
    "print(re.split(pattern, string))"
   ]
  },
  {
   "cell_type": "markdown",
   "metadata": {
    "colab_type": "text",
    "id": "00ZYg2cezeG2"
   },
   "source": [
    "### A little syntax\n",
    "\n",
    "    [xy]  A possible segment list. Example[abc] equals: a, b or c\n",
    "\n",
    "    (x|y) Indicates a multiple choice type (ps|ump) equals \"ps\" OR \"UMP\" \n",
    "\n",
    "    \\d    the segment is composed only of numbers, which is equivalent to [0-9].\n",
    "\n",
    "    \\D    the segment is not composed of numbers, which is equivalent to [^0-9].\n",
    "\n",
    "    \\s    A space, which is equivalent to [ \\t\\n\\r\\r\\f\\v].\n",
    "\n",
    "    \\S    No space, which is equivalent to [^ \\t\\n\\r\\f\\v].\n",
    "\n",
    "    \\w    Alphanumeric presence, which is equivalent to [a-zA-Z0-9_].\n",
    "\n",
    "    \\W    No alphanumeric presence [^a-zA-Z0-9_].\n",
    "\n",
    "    \\     Is an escape character. It _unprotects_ reserved characters by restoring their original meaning."
   ]
  },
  {
   "cell_type": "markdown",
   "metadata": {
    "colab_type": "text",
    "id": "kyiLpajFzeG3"
   },
   "source": [
    "### Let's try it.\n",
    "\n",
    "If the answer is not `None`, it means the match matches. GREY is indeed a name beginning with GR followed by a character and ending with Y."
   ]
  },
  {
   "cell_type": "code",
   "execution_count": null,
   "metadata": {
    "colab": {},
    "colab_type": "code",
    "id": "d-vUiHQJzeG4",
    "outputId": "79709efc-6003-46a4-9c5e-80f9b60d7b65"
   },
   "outputs": [],
   "source": [
    "print(re.match(\"GR(.)?Y\", \"GREY\"))\n",
    "# (.)? means that we expect 0 or 1 character.\n",
    "# 0 or 1 because of the `?` following the character `.`, which means any character"
   ]
  },
  {
   "cell_type": "code",
   "execution_count": null,
   "metadata": {
    "colab": {},
    "colab_type": "code",
    "id": "K8cC1TGhzeG7",
    "outputId": "3fdb669d-7e94-4b73-c292-1e5c98cedf9e"
   },
   "outputs": [],
   "source": [
    "pattern = \"GR(.)?Y\"\n",
    "string = \"GREY\"\n",
    "\n",
    "result = re.match(pattern, string)\n",
    "print(result)\n",
    "\n",
    "# It is equal to\n",
    "compiled = re.compile(pattern)\n",
    "result = compiled.match(string)\n",
    "print(result)"
   ]
  },
  {
   "cell_type": "code",
   "execution_count": null,
   "metadata": {
    "colab": {},
    "colab_type": "code",
    "id": "_yNpUAH-zeG_",
    "outputId": "2c8fd1ff-90a9-4cac-f599-2f6f11bcb536"
   },
   "outputs": [],
   "source": [
    "#  So in a loop the second syntax is nicer\n",
    "pattern = \"GR(.)?Y\"\n",
    "compiled = re.compile(pattern)\n",
    "l = [\"GREY 'S\", \"GRAY\", \"GREYISH\", \"A GREY\"]\n",
    "\n",
    "for elem in l:\n",
    "    result = compiled.match(elem)\n",
    "    print(elem, result)"
   ]
  },
  {
   "cell_type": "markdown",
   "metadata": {},
   "source": [
    "In the following, we search for specific expressions in a string."
   ]
  },
  {
   "cell_type": "code",
   "execution_count": null,
   "metadata": {
    "colab": {},
    "colab_type": "code",
    "id": "dSppk5IszeHE",
    "outputId": "90badda8-bab3-4eba-9c8d-9547e9da2f48"
   },
   "outputs": [],
   "source": [
    "print(re.findall(\"GR(.)?Y\", \"GREY\"))\n",
    "# so here we are looking for a unique element (.)? between GR and Y"
   ]
  },
  {
   "cell_type": "code",
   "execution_count": null,
   "metadata": {
    "colab": {},
    "colab_type": "code",
    "id": "c7xuIjyLzeHJ",
    "outputId": "5f86f01d-7b12-40d3-bf21-27546c53ce15"
   },
   "outputs": [],
   "source": [
    "# Ditto for two characters to be found\n",
    "re.findall(\"G(.)?(.)?Y\", \"GREY\")"
   ]
  },
  {
   "cell_type": "markdown",
   "metadata": {},
   "source": [
    "To keep only numbers. "
   ]
  },
  {
   "cell_type": "code",
   "execution_count": null,
   "metadata": {
    "colab": {},
    "colab_type": "code",
    "id": "WBrIVn-_zeHN",
    "outputId": "fc9c1cfe-4b92-4994-ce15-b5d4e7139ff1"
   },
   "outputs": [],
   "source": [
    "# Only numbers\n",
    "print(re.findall(\"([0-9]+)\", \"Hello I live on the 7th floor of 220 street of sims\"))\n",
    "# \"+\" Means 1 or more characters"
   ]
  },
  {
   "cell_type": "markdown",
   "metadata": {},
   "source": [
    "And conversely, if you only want to keep the words. "
   ]
  },
  {
   "cell_type": "code",
   "execution_count": null,
   "metadata": {
    "colab": {},
    "colab_type": "code",
    "id": "ox7Nu7kUzeHU",
    "outputId": "69941c41-5c8f-4056-dfe6-ff66651d7bbd"
   },
   "outputs": [],
   "source": [
    "# Only words\n",
    "print(re.findall(\"([A-z]+)\", \"Hello I live on the 7th floor of 220 street of sims\"))"
   ]
  },
  {
   "cell_type": "markdown",
   "metadata": {
    "colab_type": "text",
    "id": "kjICFwLNzeHX"
   },
   "source": [
    "### Stop, we recap !"
   ]
  },
  {
   "cell_type": "markdown",
   "metadata": {
    "colab_type": "text",
    "id": "dMMTCegrzeHY"
   },
   "source": [
    "Character | Meaning   \n",
    ":-------------------------:|:-------------------------:\n",
    "**.** | Refers to any character.\n",
    "**^** | Indicates the beginning of the string.<br />For example, _^a_ matches _ab_ but not _ba_. \n",
    "**$** | Indicates the end of the string.<br />For example, _a$_ matches _ba_ but not _ab_. \n",
    "**?**| The previous character can be repeated zero or once.<br /> For example, _ab?_ corresponds to _ab_ and _a_.\n",
    " *| The previous character can be repeated none or several times. <br />For example, _ab\\*_ may correspond to: _a_, _ab_, or _a_ followed by any number of _b_.\n",
    "**+**| The previous character can be repeated once or several times. <br/>For example, to _ab+_ corresponds an _a_ followed by any number of _b_.\n",
    "**{n}**| Indicates that the previous character must be repeated _n_ times.\n",
    "**{n, m}**|Indicates that the previous character must be repeated between _n_ and _m_ times.\n",
    "**\\w** | It corresponds to any alphabetical character, it is equivalent to _[a-zA-Z]_.\n",
    "**\\W** | It corresponds to everything that is not an alphabetical character.\n",
    "**\\d** | It corresponds to any numeric character, i.e. it is equivalent to _[0-9]_.\n",
    "**\\D** | It corresponds to everything that is not a numeric character."
   ]
  },
  {
   "cell_type": "markdown",
   "metadata": {
    "colab_type": "text",
    "id": "ZNoamLAczeHc"
   },
   "source": [
    "<img src=\"https://i.redd.it/nac35ntlfg831.jpg\" width=\"400\">\n"
   ]
  },
  {
   "cell_type": "markdown",
   "metadata": {
    "colab_type": "text",
    "id": "kHIg2LmjzeHd"
   },
   "source": [
    "### Some useful resources\n",
    "[Regex quickstart](http://www.rexegg.com/regex-quickstart.html): the Regex cheat sheet\n",
    "\n",
    "[Dreambank Regex](http://www.dreambank.net/regex.html#examples): some examples of regex behaviour\n",
    "\n",
    "[Pythex](https://pythex.org/): a real-time regular expression editor for Python, a quick way to test your regular expressions.  \n",
    "\n",
    "[Regex101](https://regex101.com/): online regex editor and debugger. Regex101 allows you to create, debug, test and have your expressions explained for PHP, PCRE, Python, Golang and JavaScript. The website also features a community where you can share useful expressions.\n",
    "\n",
    "##### And just for fun...\n",
    "[Regex Crosswords](https://regexcrossword.com/): some crossword puzzles to test your Regex knowledge\n"
   ]
  },
  {
   "cell_type": "markdown",
   "metadata": {
    "colab_type": "text",
    "id": "f-xPzTvWzeHe"
   },
   "source": [
    "#### How to check that the entered string is that of a number ?"
   ]
  },
  {
   "cell_type": "code",
   "execution_count": null,
   "metadata": {
    "colab": {},
    "colab_type": "code",
    "id": "w3nZ_oIbzeHf",
    "outputId": "890ed6b5-b5f5-4c19-a7d0-3848899346a1"
   },
   "outputs": [],
   "source": [
    "number = input(\"Your number : \")\n",
    "if re.match(\"^[0-9]+$\", number):\n",
    "    print(\"The string entered is a number.\")\n",
    "else:\n",
    "    print(\"The string entered is NOT a number.\")"
   ]
  },
  {
   "cell_type": "markdown",
   "metadata": {},
   "source": [
    "Another way"
   ]
  },
  {
   "cell_type": "code",
   "execution_count": null,
   "metadata": {
    "colab": {},
    "colab_type": "code",
    "id": "hH4MzAn5zeHi",
    "outputId": "799bd89d-35df-406f-e1d5-f17d4c1a2889"
   },
   "outputs": [],
   "source": [
    "compiled = re.compile(\"^[0-9]+$\")\n",
    "if compiled.search(number) is not None:\n",
    "    print(\"The string entered is a number.\")\n",
    "else:\n",
    "    print(\"The string entered is NOT a number\")"
   ]
  },
  {
   "cell_type": "markdown",
   "metadata": {},
   "source": [
    "### Drill"
   ]
  },
  {
   "cell_type": "markdown",
   "metadata": {
    "colab_type": "text",
    "id": "f5YsM8CYzeHl"
   },
   "source": [
    "\n",
    "**1. Create a regex that finds integers without size limit.**"
   ]
  },
  {
   "cell_type": "code",
   "execution_count": null,
   "metadata": {
    "colab": {},
    "colab_type": "code",
    "id": "-Ui9NhETzeHm",
    "outputId": "e0932e42-44c0-4718-b4d0-6b247fc1f674"
   },
   "outputs": [],
   "source": [
    "s = \"sssgdds8sfsfs\""
   ]
  },
  {
   "cell_type": "markdown",
   "metadata": {
    "colab_type": "text",
    "id": "5s96xBmKzeHr"
   },
   "source": [
    "**2. Create a regex that finds negative integers without size limit.**"
   ]
  },
  {
   "cell_type": "code",
   "execution_count": null,
   "metadata": {
    "colab": {},
    "colab_type": "code",
    "id": "_BE3W4FrzeHr"
   },
   "outputs": [],
   "source": [
    "s = \"sssgdds-8sfsfs\""
   ]
  },
  {
   "cell_type": "markdown",
   "metadata": {
    "colab_type": "text",
    "id": "VTyKX9W6zeHt"
   },
   "source": [
    "**3. Create a regex that finds (positive or negative) integers without size limit.**"
   ]
  },
  {
   "cell_type": "code",
   "execution_count": null,
   "metadata": {
    "colab": {},
    "colab_type": "code",
    "id": "aUt7Ut6szeHu"
   },
   "outputs": [],
   "source": [
    "s = \"sssgdds-8s8fsfs\""
   ]
  },
  {
   "cell_type": "markdown",
   "metadata": {
    "colab_type": "text",
    "id": "0PHROIn0zeHw"
   },
   "source": [
    "**4. Capture all the numbers of the following sentence :**"
   ]
  },
  {
   "cell_type": "code",
   "execution_count": null,
   "metadata": {
    "colab": {},
    "colab_type": "code",
    "id": "ZqZWhh6DzeHx"
   },
   "outputs": [],
   "source": [
    "text = \"21 scouts and 3 tanks fought against 4,003 protestors, so the manager was not 100.00% happy.\""
   ]
  },
  {
   "cell_type": "markdown",
   "metadata": {
    "colab_type": "text",
    "id": "eMyqTHyTzeH2"
   },
   "source": [
    "**5. Find all words that end with 'ly'.**"
   ]
  },
  {
   "cell_type": "code",
   "execution_count": null,
   "metadata": {
    "colab": {},
    "colab_type": "code",
    "id": "F0zce0lbzeH2"
   },
   "outputs": [],
   "source": [
    "text = \"He had prudently disguised himself but was quickly captured by the police.\""
   ]
  },
  {
   "cell_type": "markdown",
   "metadata": {
    "colab": {},
    "colab_type": "code",
    "id": "QoIRhUQazeH4"
   },
   "source": [
    "**6. License plate number**  \n",
    "A Belgian license plate consists of 1 digit (0, 1 or 2), a dash ('-'), 3 capital letters, a dash ('-') and finally 3 digits. Write a script to check that an input string is a valid license plate.  \n",
    "If it's correct, print `\"good\"`. If it's not correct, print `\"Not good\"`."
   ]
  },
  {
   "cell_type": "code",
   "execution_count": null,
   "metadata": {
    "colab": {},
    "colab_type": "code",
    "id": "PA-6loX6zeH8",
    "outputId": "b7289953-b595-4a76-c493-a6964423804a"
   },
   "outputs": [],
   "source": [
    "plate = input(\"Enter your license plate number: \")"
   ]
  },
  {
   "cell_type": "markdown",
   "metadata": {
    "colab_type": "text",
    "id": "3ioJXWmXzeIC"
   },
   "source": [
    "**7. Address IPV4**  \n",
    "An IPv4 address is composed of 4 numbers between 0 and 255 separated by '.'   \n",
    "Write a script to verify that a string entered is a valid IPv4 address."
   ]
  },
  {
   "cell_type": "code",
   "execution_count": null,
   "metadata": {
    "colab": {},
    "colab_type": "code",
    "id": "AEcNL-vXzeIE"
   },
   "outputs": [],
   "source": [
    "ip = input(\"Enter your IP address :\")"
   ]
  },
  {
   "cell_type": "markdown",
   "metadata": {},
   "source": [
    "**8. Valid Mail**  \n",
    "An email is composed of alphanumeric characters followed by `@` and a domain name.  \n",
    "Write a script that checks that the string entered by a user is indeed that of an email, otherwise ask him to re-enter it again (until he gets a valid email)."
   ]
  },
  {
   "cell_type": "code",
   "execution_count": null,
   "metadata": {
    "colab": {},
    "colab_type": "code",
    "id": "8NGjap8NzeIH"
   },
   "outputs": [],
   "source": [
    "mail = input(\"Enter your email :\")"
   ]
  },
  {
   "cell_type": "markdown",
   "metadata": {
    "colab_type": "text",
    "id": "5YoLVVnJzeIK"
   },
   "source": [
    "**9. Valid Password**  \n",
    "Write an additional script that verifies the password (obviously if the email is valid) where the only specificity of the password is that it has to contain at least 6 characters."
   ]
  },
  {
   "cell_type": "code",
   "execution_count": null,
   "metadata": {
    "colab": {},
    "colab_type": "code",
    "id": "1NJd2SIGzeIM"
   },
   "outputs": [],
   "source": [
    "password = input(\"Enter your password :\")"
   ]
  },
  {
   "cell_type": "markdown",
   "metadata": {
    "colab_type": "text",
    "id": "QBnkFFmtzeIO"
   },
   "source": [
    "**10. Valid Password bis**  \n",
    "The password must now contain at least 6 characters AND  \n",
    "\n",
    "- at least one lowercase letter AND \n",
    "- at least one uppercase letter AND \n",
    "- at least one number AND \n",
    "- at least one special character (among `$#@`)."
   ]
  },
  {
   "cell_type": "code",
   "execution_count": null,
   "metadata": {
    "colab": {},
    "colab_type": "code",
    "id": "Kh8YQEcjzeIP"
   },
   "outputs": [],
   "source": [
    "password = input(\"Enter your password :\")"
   ]
  },
  {
   "cell_type": "markdown",
   "metadata": {},
   "source": [
    "**11. Search by groups**  \n",
    "It is possible to search by groups, and it is very powerful!  \n",
    "`?P<x>\\w+` means the capture of a \"group\" named `x`, this group is composed of at least (`+`) one alphanumeric  character `(\\w)`."
   ]
  },
  {
   "cell_type": "code",
   "execution_count": null,
   "metadata": {
    "colab": {},
    "colab_type": "code",
    "id": "B84T52avzeIT",
    "outputId": "8c172ad4-e738-4959-853f-769431aa63fd"
   },
   "outputs": [],
   "source": [
    "m = re.search(\n",
    "    \"Welcome to (?P<where>\\w+) ! You are (?P<age>\\d+) years old ?\",\n",
    "    \"Welcome to Olivier ! You are 32 years old ?\",\n",
    ")\n",
    "print(m.group(\"where\"))\n",
    "print(m.group(\"age\"))"
   ]
  },
  {
   "cell_type": "code",
   "execution_count": null,
   "metadata": {
    "colab": {},
    "colab_type": "code",
    "id": "8zIMNbCVzeIW",
    "outputId": "7688cc3b-627d-4c7f-9352-71238148cb88"
   },
   "outputs": [],
   "source": [
    "# Another Example\n",
    "m = re.search(\n",
    "    \"^(?P<who>\\w*)[.]?(?P<who2>\\w*)@(?P<operator>\\w+)[.](?P<zone>\\w+$)\",\n",
    "    \"audrey.boulevart@benextcomapgny.com\",\n",
    ")\n",
    "if m is not None:\n",
    "    print(m.group(\"who\"))\n",
    "    print(m.group(\"who2\"))\n",
    "    print(m.group(\"operator\"))\n",
    "    print(m.group(\"zone\"))"
   ]
  },
  {
   "cell_type": "markdown",
   "metadata": {
    "colab_type": "text",
    "id": "jWjUNH0wzeIY"
   },
   "source": [
    "Load the file `./data/mail.txt` and clean it with the regex. The goal is to retrieve the last name, first name, operator and zone, as in the previous example. Store each of those into their own separate list."
   ]
  },
  {
   "cell_type": "code",
   "execution_count": null,
   "metadata": {
    "colab": {},
    "colab_type": "code",
    "id": "-lbl8DZDzeIZ"
   },
   "outputs": [],
   "source": [
    "list_mail = open(\"./data/mail.txt\")"
   ]
  },
  {
   "cell_type": "markdown",
   "metadata": {
    "colab_type": "text",
    "id": "HRj-nKbszeIi"
   },
   "source": [
    "**12. Another way of doing things.**"
   ]
  },
  {
   "cell_type": "code",
   "execution_count": null,
   "metadata": {
    "colab": {},
    "colab_type": "code",
    "id": "KZ-pp_LdzeIb",
    "outputId": "9ce1a3a7-4cf2-444e-ebdb-0c1bcdb9c3d8"
   },
   "outputs": [],
   "source": [
    "mail = \"audrey.boulevart@benextcomapgny.com\"\n",
    "splitMail = mail.replace(\".\", \" \").split(\"@\").copy()\n",
    "\n",
    "firstName = []\n",
    "name = []\n",
    "ope = []\n",
    "zone = []\n",
    "\n",
    "firstName.append(splitMail[0].split()[0])\n",
    "name.append(splitMail[0].split()[-1])\n",
    "ope.append(splitMail[1].split()[0])\n",
    "zone.append(splitMail[1].split()[-1])\n",
    "\n",
    "firstName, name, ope, zone"
   ]
  },
  {
   "cell_type": "markdown",
   "metadata": {},
   "source": [
    "Repeat the previous exercise with this new formula and compare the length of your lists with those of the previous exercise.  \n",
    "What do you notice ?"
   ]
  }
 ],
 "metadata": {
  "colab": {
   "name": "Av_2_python_regex.ipynb",
   "provenance": [],
   "version": "0.3.2"
  },
  "kernelspec": {
   "display_name": "Python 3.10.5 64-bit",
   "language": "python",
   "name": "python3"
  },
  "language_info": {
   "codemirror_mode": {
    "name": "ipython",
    "version": 3
   },
   "file_extension": ".py",
   "mimetype": "text/x-python",
   "name": "python",
   "nbconvert_exporter": "python",
   "pygments_lexer": "ipython3",
   "version": "3.10.5"
  },
  "vscode": {
   "interpreter": {
    "hash": "aee8b7b246df8f9039afb4144a1f6fd8d2ca17a180786b69acc140d282b71a49"
   }
  }
 },
 "nbformat": 4,
 "nbformat_minor": 1
}
