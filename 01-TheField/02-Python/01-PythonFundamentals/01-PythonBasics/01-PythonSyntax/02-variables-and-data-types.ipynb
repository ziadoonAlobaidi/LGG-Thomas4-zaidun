{
 "cells": [
  {
   "cell_type": "markdown",
   "metadata": {},
   "source": [
    "# Variables and data types\n",
    "Variables are used to temporarily store a value in the computer's memory. We can then use it later, when we need it in the program. We can compare that to a small box in which we could store information. \n",
    "\n",
    "Since Python is a dynamically typed language, Python values, not variables, carry type. This has implications for many aspects of the way the language functions.\n",
    "\n",
    "All variables in Python hold references to objects, and these references are passed to functions; a function cannot change the value of variable references in its calling function (but see below for exceptions). Some people (including Guido van Rossum himself) have called this parameter-passing scheme \"Call by object reference.\" An object reference means a name, and the passed reference is an \"alias\", i.e. a copy of the reference to the same object, just as in C/C++. The object's value may be changed in the called function with the \"alias\".\n",
    "\n",
    "\n",
    "\n",
    "## Naming and code writing conventions\n",
    "As in many programming languages, to name a variable, some conventions must be respected.\n",
    "\n",
    "#### 1. The name of the variable must start with a **letter or an underscore**. The variable can not start with a number or a hyphen.         \n",
    "\n",
    "❌ Bad example :\n",
    "```py\n",
    "# Do not do this\n",
    "2Name = \"James\" \n",
    "\n",
    "# Do not do this\n",
    "-name = \"James\"\n",
    "\n",
    "```\n",
    "\n",
    "✅ Good example :\n",
    "```py\n",
    "# Do this\n",
    "name = \"James\" \n",
    "\n",
    "# Do this\n",
    "_name = \"James\"\n",
    "\n",
    "```\n",
    "#### 2. **Never put space between words.** \n",
    "\n",
    "❌ Bad example :\n",
    "```py\n",
    "# Do not do this\n",
    "My name = \"Odile\" \n",
    "```\n",
    "\n",
    "✅ Good example :\n",
    "```py\n",
    "# DO is\n",
    "my_name = \"Odile\"\n",
    "\n",
    "```\n",
    "\n",
    "#### 3. No accents on the names of variables. **Use only English**\n",
    "\n",
    "❌ Bad example :\n",
    "```py\n",
    "# Do not do this\n",
    "prénom = \"Odile\" \n",
    "```\n",
    "\n",
    "✅ Good example :\n",
    "```py\n",
    "# Do this\n",
    "first_name = \"Odile\" \n",
    "```\n",
    "\n",
    "#### 4. **Always give an explicit name** to the variable.\n",
    "\n",
    "❌ Bad example :\n",
    "```py\n",
    "# Do not do this\n",
    "a = \"Odile\" \n",
    "\n",
    "# Do not do this\n",
    "fstnme = \"Odile\"\n",
    "\n",
    "```\n",
    "\n",
    "✅ Good example :\n",
    "```py\n",
    "# Do this\n",
    "first_name = \"Odile\" \n",
    "\n",
    "# Do this\n",
    "magic_potion = 42\n",
    "\n",
    "```"
   ]
  },
  {
   "cell_type": "markdown",
   "metadata": {},
   "source": [
    "**Try it for yourself by clicking on the Run button**"
   ]
  },
  {
   "cell_type": "code",
   "execution_count": null,
   "metadata": {},
   "outputs": [],
   "source": [
    "# BAD \n",
    "2name = \"James\""
   ]
  },
  {
   "cell_type": "code",
   "execution_count": null,
   "metadata": {},
   "outputs": [],
   "source": [
    "# BAD\n",
    "-name = \"Bond\""
   ]
  },
  {
   "cell_type": "code",
   "execution_count": null,
   "metadata": {},
   "outputs": [],
   "source": [
    "# BAD\n",
    "My name = \"bond\""
   ]
  },
  {
   "cell_type": "markdown",
   "metadata": {},
   "source": [
    "The `print()` function allows us to display the result. "
   ]
  },
  {
   "cell_type": "code",
   "execution_count": null,
   "metadata": {},
   "outputs": [],
   "source": [
    "# GOOD\n",
    "name = \"Bond\"\n",
    "print(\"Your name is\", name)"
   ]
  },
  {
   "cell_type": "markdown",
   "metadata": {},
   "source": [
    "To format the text, you can use the `format()` method in the class string"
   ]
  },
  {
   "cell_type": "code",
   "execution_count": null,
   "metadata": {},
   "outputs": [],
   "source": [
    "last_name = \"Bond\"\n",
    "first_name = \"James\"\n",
    "text = \"My name is {}, {} {}.\".format(last_name, first_name, last_name)\n",
    "print(text)"
   ]
  },
  {
   "cell_type": "markdown",
   "metadata": {},
   "source": [
    "Another example. Replace the value of the variable `age` with your age and the variable `firstname` with your first name."
   ]
  },
  {
   "cell_type": "code",
   "execution_count": 1,
   "metadata": {},
   "outputs": [
    {
     "name": "stdout",
     "output_type": "stream",
     "text": [
      "Hello, my name is Ludovic and I am 34\n"
     ]
    }
   ],
   "source": [
    "age = \"34\"\n",
    "first_name = \"Ludovic\"\n",
    "text = \"Hello, my name is {} and I am {}\".format(first_name, age)\n",
    "print(text)"
   ]
  },
  {
   "cell_type": "markdown",
   "metadata": {},
   "source": [
    "It can be also done with a more readable syntax:\n",
    "_(It's a feature added in Python 3.6 so if you use an older version, it won't work)_\n",
    "\n",
    "It's a better practice to do it like that so always do it if you can."
   ]
  },
  {
   "cell_type": "code",
   "execution_count": 2,
   "metadata": {},
   "outputs": [
    {
     "name": "stdout",
     "output_type": "stream",
     "text": [
      "Hello, my name is Ludovic and I am 34\n"
     ]
    }
   ],
   "source": [
    "age = \"34\"\n",
    "first_name = \"Ludovic\"\n",
    "text = f\"Hello, my name is {first_name} and I am {age}\"\n",
    "print(text)"
   ]
  },
  {
   "cell_type": "markdown",
   "metadata": {},
   "source": [
    "## Data types\n",
    "\n",
    "Since Python is a high-level language, it has a dynamic variable typing.   \n",
    "By dynamic, understand that it is the computer that deals with defining what type of variable should be used.  \n",
    "To be perfectly accurate, **it is not the variable that is typed (unlike Java) but its content**.\n",
    "\n",
    "In Java, we declare a variable like this:\n",
    "```java\n",
    "String firstName = \"James\"\n",
    "```\n",
    "We define the type of variable ourselves. \n",
    "\n",
    " With Python we declare a variable like this:\n",
    "```py\n",
    "first_name = \"James\"\n",
    "```\n",
    "And so, it's Python that will define what type will be used."
   ]
  },
  {
   "cell_type": "code",
   "execution_count": 3,
   "metadata": {},
   "outputs": [
    {
     "name": "stdout",
     "output_type": "stream",
     "text": [
      "['James', 'Bond', 39, 81.56, True, '007']\n"
     ]
    }
   ],
   "source": [
    "first_name = \"James\"  # String\n",
    "last_name = \"Bond\"  # String\n",
    "age = 39  # Integer\n",
    "weight = 81.56  # Float\n",
    "double_agent = True  # Boolean\n",
    "login = \"007\"  # String\n",
    "agent = [first_name, last_name, age, weight, double_agent, login]  # List\n",
    "print(agent)"
   ]
  },
  {
   "cell_type": "markdown",
   "metadata": {},
   "source": [
    "1. Note that `True` and `False` are written with the first letter uppercase.\n",
    "2. `login` is a string.\n",
    "3. `List` is like an array, but you can store values of different types."
   ]
  },
  {
   "cell_type": "markdown",
   "metadata": {},
   "source": [
    "Here is a non-exhaustive list of the types we use most often.\n",
    "For tuples, dictionaries and sets we'll see them next!\n",
    "\n",
    "|Name      | Type      | Description |\n",
    "|:---------|:---------:|------------:|\n",
    "|Integers  | int       | Whole numbers, such as : **1, 67, 5000** |\n",
    "|Floating point  | float | Decimal point numbers, such as : **1.89, 0.67, 9.99999** |\n",
    "|Strings  | str | Ordered sequence of characters : **\"Hello\", \"10\"** |\n",
    "|Lists  | list  | Ordered sequence of objects : **[\"hello\", 10, 56.89]** |\n",
    "|Dictionaries  | dict | Unordered (Key : Value) pairs : **{\"Key1\": value, \"name\" : \"Peter}** |\n",
    "|Tuples  | tuple |  Ordered sequence of objects (immutable) : **(\"hello\", 10, 56.89)** |\n",
    "|Sets  | set | Unordered collections of unique objects : **{1,2}** |\n",
    "|Booleans  |bool| Logical value  : **True or False** |\n"
   ]
  },
  {
   "cell_type": "markdown",
   "metadata": {},
   "source": [
    "There is a native Python function that allows you to know what type of data you have. This is the `type()` function "
   ]
  },
  {
   "cell_type": "code",
   "execution_count": 4,
   "metadata": {},
   "outputs": [
    {
     "name": "stdout",
     "output_type": "stream",
     "text": [
      "James <class 'str'>\n",
      "Bond <class 'str'>\n",
      "39 <class 'int'>\n",
      "81.56 <class 'float'>\n",
      "['James', 'Bond', 39, 81.56, True, '007'] <class 'list'>\n"
     ]
    }
   ],
   "source": [
    "print(first_name, type(first_name))\n",
    "print(last_name, type(last_name))\n",
    "print(age, type(age))\n",
    "print(weight, type(weight))\n",
    "print(agent, type(agent))"
   ]
  },
  {
   "cell_type": "markdown",
   "metadata": {},
   "source": [
    "You might be wondering why it’s important to know about all these data types.Your knowledge of data types will come in handy in many parts of your data journey including data collection, data management, data integration, and internal application development (using no-code or low-code tools), among others.\n",
    "\n",
    "[NEXT >](03-lists-tuples-and-dictionaries.ipynb)\n"
   ]
  },
  {
   "cell_type": "markdown",
   "metadata": {},
   "source": []
  }
 ],
 "metadata": {
  "kernelspec": {
   "display_name": "Python 3.9.13 64-bit (microsoft store)",
   "language": "python",
   "name": "python3"
  },
  "language_info": {
   "codemirror_mode": {
    "name": "ipython",
    "version": 3
   },
   "file_extension": ".py",
   "mimetype": "text/x-python",
   "name": "python",
   "nbconvert_exporter": "python",
   "pygments_lexer": "ipython3",
   "version": "3.9.13"
  },
  "vscode": {
   "interpreter": {
    "hash": "5af58ead5434bcaec4ba320c097b4ab95f4d47b5cc097d838e053a401accc545"
   }
  }
 },
 "nbformat": 4,
 "nbformat_minor": 2
}
